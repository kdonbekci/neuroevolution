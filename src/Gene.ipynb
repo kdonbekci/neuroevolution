{
 "cells": [
  {
   "cell_type": "code",
   "execution_count": 259,
   "metadata": {},
   "outputs": [
    {
     "name": "stdout",
     "output_type": "stream",
     "text": [
      "Importing Jupyter notebook from Helpers.ipynb\n"
     ]
    }
   ],
   "source": [
    "from nbimporter import NotebookLoader\n",
    "loader = NotebookLoader()\n",
    "DistributionHelpers = loader.load_module(\"Helpers\").DistributionHelpers"
   ]
  },
  {
   "cell_type": "code",
   "execution_count": 248,
   "metadata": {},
   "outputs": [],
   "source": [
    "class Gene:\n",
    "    inno_tracker = 0\n",
    "    def __init__(self, inno_num=None):\n",
    "        if inno_num is None:\n",
    "            self.inno_num = Gene.inno_tracker \n",
    "            Gene.inno_tracker+=1\n",
    "        else:\n",
    "            self.inno_num = inno_num\n",
    "        \n",
    "    def __lt__(self, other):\n",
    "        return self.inno_num < other.inno_num\n",
    "    \n",
    "    def __eq__(self, other):\n",
    "        return self.inno_num == other.inno_num\n",
    "    \n",
    "    def __str__(self):\n",
    "        return self.describe()\n",
    "    \n",
    "    def __repr__(self):\n",
    "        return self._repr()"
   ]
  },
  {
   "cell_type": "code",
   "execution_count": 254,
   "metadata": {},
   "outputs": [],
   "source": [
    "class NodeGene(Gene):\n",
    "    \n",
    "    valid_types = ['hidden', 'input', 'output']\n",
    "    def __init__(self, _type, bias=0.0, activation='linear', aggregation='sum', inno_num = None):\n",
    "        assert _type in NodeGene.valid_types, 'Invalid type (\\'{}\\') for NodeGene'.format(_type)\n",
    "        super().__init__(inno_num)\n",
    "        self.type = _type\n",
    "        self.bias = bias\n",
    "        self.activation = activation\n",
    "        self.aggregation = aggregation\n",
    "        \n",
    "    def describe(self):\n",
    "        return 'NodeGene: inno_num: {}, type: {}, bias: {}, activation: {}, aggregation: {}'.format(self.inno_num, self.type, self.bias, self.activation, self.aggregation)\n",
    "    \n",
    "    def _repr(self):\n",
    "        return 'NodeGene(\\'{}\\', {}, \\'{}\\', \\'{}\\', {})'.format(self.type, self.bias, self.activation, self.aggregation, self.inno_num)"
   ]
  },
  {
   "cell_type": "code",
   "execution_count": 269,
   "metadata": {},
   "outputs": [],
   "source": [
    "class ConnectionGene(Gene):\n",
    "    \n",
    "    def __init__(self, _in, out, weight=None, enabled=None):\n",
    "        super().__init__()\n",
    "        self._in = _in\n",
    "        self.out = out\n",
    "        self.weight = weight if weight is not None else DistributionHelpers.sample_normal()\n",
    "        self.enabled = enabled if enabled is not None else True\n",
    "        \n",
    "    def describe(self):\n",
    "        return 'ConnectionGene: inno_num: {}, in: {}, out: {}, weight: {}, enabled: {}'.format(self.inno_num, self._in, self.out, self.weight, self.enabled)\n",
    "\n",
    "    def _repr(self):\n",
    "        pass\n",
    "#         return 'ConnectionGene(\\'{}\\', {}, \\'{}\\', \\'{}\\', {})'.format(self.type, self.bias, self.activation, self.aggregation, self.inno_num)"
   ]
  },
  {
   "cell_type": "code",
   "execution_count": 200,
   "metadata": {},
   "outputs": [],
   "source": [
    "class PseudoGene(Gene):\n",
    "    class_ = 'PseudoGene'\n",
    "    def __init__(self):\n",
    "        super().__init__()"
   ]
  }
 ],
 "metadata": {
  "kernelspec": {
   "display_name": "Python [conda env:neuroevolution_3.6]",
   "language": "python",
   "name": "conda-env-neuroevolution_3.6-py"
  },
  "language_info": {
   "codemirror_mode": {
    "name": "ipython",
    "version": 3
   },
   "file_extension": ".py",
   "mimetype": "text/x-python",
   "name": "python",
   "nbconvert_exporter": "python",
   "pygments_lexer": "ipython3",
   "version": "3.6.6"
  }
 },
 "nbformat": 4,
 "nbformat_minor": 2
}
