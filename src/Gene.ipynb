{
 "cells": [
  {
   "cell_type": "code",
   "execution_count": 340,
   "metadata": {},
   "outputs": [],
   "source": [
    "from importer import *\n",
    "from helpers import Distributions"
   ]
  },
  {
   "cell_type": "code",
   "execution_count": 341,
   "metadata": {},
   "outputs": [],
   "source": [
    "class Gene:\n",
    "    inno_tracker = 0\n",
    "    def __init__(self, generation, inno_num=None):\n",
    "        if inno_num is None:\n",
    "            self.inno_num = Gene.inno_tracker \n",
    "            Gene.inno_tracker+=1\n",
    "        else:\n",
    "            self.inno_num = inno_num\n",
    "        self.origin = generation\n",
    "      \n",
    "    def age(self, curGeneration):\n",
    "        return curGeneration - self.origin\n",
    "    \n",
    "    def __lt__(self, other):\n",
    "        return self.inno_num < other.inno_num\n",
    "    \n",
    "    def __eq__(self, other):\n",
    "        return self.inno_num == other.inno_num\n",
    "    \n",
    "    def __str__(self):\n",
    "        return self.describe()"
   ]
  },
  {
   "cell_type": "code",
   "execution_count": 342,
   "metadata": {},
   "outputs": [],
   "source": [
    "class NodeGene(Gene):\n",
    "    \n",
    "    valid_types = ['hidden', 'input', 'output']\n",
    "    def __init__(self, generation, _type=None, bias=0.0, inno_num=None):\n",
    "        assert _type in NodeGene.valid_types, 'Invalid type (\\'{}\\') for NodeGene'.format(_type) #temporary\n",
    "        super().__init__(generation, inno_num)\n",
    "        self.type = _type\n",
    "        self.bias = bias\n",
    "#         self.activation = activation\n",
    "#         self.aggregation = aggregation\n",
    "        \n",
    "    def copy(self, maintain_bias=None):\n",
    "        if maintain_bias is None:\n",
    "            maintain_bias = False\n",
    "        return NodeGene(self.type, self.biasself.inno_num) if maintain_bias else NodeGene(\n",
    "            self.type, 0.0, self.activation, self.aggregation, self.inno_num)\n",
    "    \n",
    "    def describe(self):\n",
    "        return 'NodeGene: inno_num: {}, type: {}, bias: {}, activation: {}, aggregation: {}'.format(self.inno_num, self.type,\n",
    "                                                                                                    self.bias, self.activation, self.aggregation)\n",
    "    "
   ]
  },
  {
   "cell_type": "code",
   "execution_count": 343,
   "metadata": {},
   "outputs": [],
   "source": [
    "class ConnectionGene(Gene):\n",
    "    \n",
    "    def __init__(self, generation, inNode, outNode, weight=None, expressed=None, inno_num=None):\n",
    "        super().__init__(generation, inno_num)\n",
    "        self.inNode = inNode\n",
    "        self.outNode = outNode\n",
    "        self.weight = weight if weight is not None else Distributions.sample_normal()\n",
    "        self.expressed = expressed if expressed is not None else True\n",
    "        \n",
    "    def copy(self, maintain_weights=None):\n",
    "        if maintain_weights is None:\n",
    "            maintain_weights = False\n",
    "        return ConnectionGene(self.inNode, self.outNode, self.weight, self.expressed, self.inno_num) if maintain_weights else ConnectionGene(\n",
    "            self.inNode, self.outNode, Distributions.sample_normal(), self.expressed, self.inno_num)\n",
    "    \n",
    "    def describe(self):\n",
    "        return 'ConnectionGene: inno_num: {}, in: {}, out: {}, weight: {}, expressed: {}'.format(self.inno_num, self._in, self.out, self.weight, self.expressed)\n"
   ]
  },
  {
   "cell_type": "code",
   "execution_count": 344,
   "metadata": {},
   "outputs": [],
   "source": [
    "class LayerGene(Gene):\n",
    "    \n",
    "    def __init__(self, generation, activation):\n",
    "        pass\n",
    "        "
   ]
  },
  {
   "cell_type": "code",
   "execution_count": 345,
   "metadata": {},
   "outputs": [],
   "source": [
    "class PseudoGene(Gene):\n",
    "    \n",
    "    def __init__(self, inno_num=None):\n",
    "        super().__init__(inno_num)\n"
   ]
  },
  {
   "cell_type": "code",
   "execution_count": null,
   "metadata": {},
   "outputs": [],
   "source": []
  }
 ],
 "metadata": {
  "kernelspec": {
   "display_name": "Python [conda env:neuroevolution_3.6]",
   "language": "python",
   "name": "conda-env-neuroevolution_3.6-py"
  },
  "language_info": {
   "codemirror_mode": {
    "name": "ipython",
    "version": 3
   },
   "file_extension": ".py",
   "mimetype": "text/x-python",
   "name": "python",
   "nbconvert_exporter": "python",
   "pygments_lexer": "ipython3",
   "version": "3.6.6"
  }
 },
 "nbformat": 4,
 "nbformat_minor": 2
}
