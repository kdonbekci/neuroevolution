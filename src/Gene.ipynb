{
 "cells": [
  {
   "cell_type": "code",
   "execution_count": 80,
   "metadata": {},
   "outputs": [],
   "source": [
    "from importer import *\n",
    "from helpers import Distributions\n",
    "from config import Configuration"
   ]
  },
  {
   "cell_type": "code",
   "execution_count": 81,
   "metadata": {},
   "outputs": [],
   "source": [
    "class Gene:\n",
    "    \n",
    "    inno_tracker = 0\n",
    "    \n",
    "    def __init__(self, generation=None, copy=False, gene=None):\n",
    "        if not copy:\n",
    "            self.inno_num = Gene.inno_tracker \n",
    "            Gene.inno_tracker+=1\n",
    "            self.origin = generation\n",
    "        else:\n",
    "            self.inno_num = gene.inno_num\n",
    "            self.origin = gene.origin\n",
    "      \n",
    "    def age(self, curGeneration):\n",
    "        return curGeneration - self.origin\n",
    "    \n",
    "    def __lt__(self, other):\n",
    "        return self.inno_num < other.inno_num\n",
    "    \n",
    "    def __eq__(self, other):\n",
    "        return self.inno_num == other.inno_num\n",
    "    \n",
    "    def __str__(self):\n",
    "        return self.describe()\n",
    "    \n",
    "    def __repr__(self):\n",
    "        return self.describe()"
   ]
  },
  {
   "cell_type": "code",
   "execution_count": 90,
   "metadata": {},
   "outputs": [],
   "source": [
    "class NodeGene(Gene):\n",
    "        \n",
    "    def __init__(self, _type=None, generation=None, copy=False, gene=None):\n",
    "        if not copy:\n",
    "            assert generation > 0, 'Generation {} must be > 0'.format(generation)\n",
    "            assert NodeGene.isValidType(_type), 'Invalid type (\\'{}\\') for NodeGene'.format(_type) #temporary\n",
    "            super().__init__(generation=generation)\n",
    "            self.type = _type\n",
    "            self.bias = Configuration.DEFAULT_NODE_BIAS\n",
    "            self.expressed  = Configuration.DEFAULT_NODE_EXPRESSED\n",
    "            self.activation = Configuration.DEFAULT_NODE_ACTIVATION\n",
    "        else:\n",
    "            super().__init__(copy=True, gene=gene)\n",
    "            self.type = gene.type\n",
    "            self.bias = gene.bias\n",
    "            self.expressed = gene.expressed\n",
    "            self.activation = gene.activation\n",
    "        \n",
    "    @staticmethod\n",
    "    def isValidType(_type):\n",
    "        return _type in ['hidden', 'input', 'output']\n",
    "        \n",
    "    def copy(self, maintain_bias=False):        \n",
    "        clone= NodeGene(copy=True, gene=self)\n",
    "        if not maintain_bias:\n",
    "            clone.bias = Configuration.DEFAULT_NODE_BIAS\n",
    "        return clone\n",
    "    \n",
    "    def describe(self):\n",
    "        return '<NodeGene-origin:{},inno_num:{},type:\\'{}\\',bias:{},activation:\\'{}\\'>'.format(self.origin,self.inno_num, self.type,\n",
    "                                                                                                    self.bias, self.activation)\n",
    "    "
   ]
  },
  {
   "cell_type": "code",
   "execution_count": 91,
   "metadata": {},
   "outputs": [],
   "source": [
    "class ConnectionGene(Gene):\n",
    "    \n",
    "    def __init__(self, inNode=None, outNode=None, generation=None, copy=False, gene=None):\n",
    "        if not copy:\n",
    "            super().__init__(generation)\n",
    "            self.inNode = inNode\n",
    "            self.outNode = outNode\n",
    "            self.weight = Distributions.sample_normal()\n",
    "            self.expressed = True\n",
    "        else:\n",
    "            super().__init__(copy=True, gene=gene)\n",
    "            self.inNode = gene.inNode\n",
    "            self.outNode = gene.outNode\n",
    "            self.weight = gene.weight\n",
    "            self.expressed = gene.expressed\n",
    "        \n",
    "    def copy(self, maintain_weights=False):\n",
    "        clone = ConnectionGene(copy=True, gene=self)\n",
    "        if not maintain_weights:\n",
    "            clone.weight = Distributions.sample_normal()\n",
    "        return clone\n",
    "    \n",
    "    def describe(self):\n",
    "        return '<ConnectionGene-origin:{},inno_num:{},inNode:{},outNode:{},weight:{},expressed:{}>'.format(self.origin, self.inno_num, \n",
    "                                                                                                   self.inNode, self.outNode, \n",
    "                                                                                                   self.weight, self.expressed)\n"
   ]
  },
  {
   "cell_type": "code",
   "execution_count": 92,
   "metadata": {},
   "outputs": [],
   "source": [
    "class PseudoGene(Gene):\n",
    "    \n",
    "    def __init__(self, inno_num=None):\n",
    "        super().__init__(inno_num)\n"
   ]
  },
  {
   "cell_type": "code",
   "execution_count": 93,
   "metadata": {},
   "outputs": [
    {
     "data": {
      "text/plain": [
       "<NodeGene-origin:1,inno_num:1,type:'hidden',bias:0.0,activation:'linear'>"
      ]
     },
     "execution_count": 93,
     "metadata": {},
     "output_type": "execute_result"
    }
   ],
   "source": [
    "a = NodeGene('hidden', 1)\n",
    "a"
   ]
  },
  {
   "cell_type": "code",
   "execution_count": 94,
   "metadata": {},
   "outputs": [
    {
     "data": {
      "text/plain": [
       "<NodeGene-origin:1,inno_num:1,type:'hidden',bias:0.0,activation:'linear'>"
      ]
     },
     "execution_count": 94,
     "metadata": {},
     "output_type": "execute_result"
    }
   ],
   "source": [
    "b = a.copy()\n",
    "b"
   ]
  },
  {
   "cell_type": "code",
   "execution_count": 95,
   "metadata": {},
   "outputs": [],
   "source": [
    "c = ConnectionGene(1, 2, 1)"
   ]
  },
  {
   "cell_type": "code",
   "execution_count": 96,
   "metadata": {},
   "outputs": [],
   "source": [
    "d = c.copy()"
   ]
  },
  {
   "cell_type": "code",
   "execution_count": 97,
   "metadata": {},
   "outputs": [
    {
     "data": {
      "text/plain": [
       "(<ConnectionGene-origin:1,inno_num:2,inNode:1,outNode:2,weight:0.6753887135464343,expressed:True>,\n",
       " <ConnectionGene-origin:1,inno_num:2,inNode:1,outNode:2,weight:0.22455067005321208,expressed:True>)"
      ]
     },
     "execution_count": 97,
     "metadata": {},
     "output_type": "execute_result"
    }
   ],
   "source": [
    "c, d"
   ]
  },
  {
   "cell_type": "code",
   "execution_count": null,
   "metadata": {},
   "outputs": [],
   "source": []
  }
 ],
 "metadata": {
  "kernelspec": {
   "display_name": "Python [conda env:neuroevolution_3.6]",
   "language": "python",
   "name": "conda-env-neuroevolution_3.6-py"
  },
  "language_info": {
   "codemirror_mode": {
    "name": "ipython",
    "version": 3
   },
   "file_extension": ".py",
   "mimetype": "text/x-python",
   "name": "python",
   "nbconvert_exporter": "python",
   "pygments_lexer": "ipython3",
   "version": "3.6.6"
  }
 },
 "nbformat": 4,
 "nbformat_minor": 2
}
