{
 "cells": [
  {
   "cell_type": "code",
   "execution_count": 6,
   "metadata": {},
   "outputs": [],
   "source": [
    "from importer import *"
   ]
  },
  {
   "cell_type": "code",
   "execution_count": 19,
   "metadata": {},
   "outputs": [
    {
     "name": "stdout",
     "output_type": "stream",
     "text": [
      "Importing Jupyter notebook from Gene.ipynb\n",
      "Importing Jupyter notebook from Gene.ipynb\n",
      "Importing Jupyter notebook from Gene.ipynb\n"
     ]
    }
   ],
   "source": [
    "class Genotype:\n",
    "    \n",
    "    NodeGene = loader.load_module(\"Gene\").NodeGene\n",
    "    ConnectionGene = loader.load_module(\"Gene\").ConnectionGene\n",
    "    PseudoGene = loader.load_module(\"Gene\").PseudoGene\n",
    "    \n",
    "    def __init__(self, input_dim=None, output_dim=None, generation=None, copy=False, genotype=None):\n",
    "        if not copy:\n",
    "            self.genes = {} #innovation number --> gene lookup\n",
    "            self.origin = generation\n",
    "            for _ in range(input_dim):\n",
    "                g_in = Genotype.NodeGene(_type='input', generation=self.origin)\n",
    "                self.add_gene(g_in)\n",
    "            for _ in range(output_dim):\n",
    "                g_out = Genotype.NodeGene(_type='output', generation=self.origin,)\n",
    "                self.add_gene(g_out)\n",
    "        else:\n",
    "            self.genes = {}\n",
    "            self.origin = genotype.origin\n",
    "            for i in genotype.genes:\n",
    "                self.genes[i] = genotype.genes[i].copy()\n",
    "        \n",
    "    def add_gene(self, gene):\n",
    "        assert gene.inno_num not in self.genes #temporary\n",
    "        self.genes[gene.inno_num] = gene\n",
    "    \n",
    "    #returns a child genotype after the crossover operation is complete\n",
    "    @staticmethod\n",
    "    def crossover(more_fit_parent, less_fit_parent):\n",
    "#         child = Genotype()\n",
    "        pass\n",
    "#         for \n",
    "    \n",
    "    def copy(self):\n",
    "        clone = Genotype(copy=True, genotype=self)\n",
    "        return clone\n",
    "        \n",
    "        "
   ]
  },
  {
   "cell_type": "code",
   "execution_count": 20,
   "metadata": {},
   "outputs": [],
   "source": [
    "a = Genotype(1, 2, 3)"
   ]
  },
  {
   "cell_type": "code",
   "execution_count": 21,
   "metadata": {},
   "outputs": [],
   "source": [
    "a.add_gene(Genotype.NodeGene('hidden', 2))"
   ]
  },
  {
   "cell_type": "code",
   "execution_count": 22,
   "metadata": {},
   "outputs": [
    {
     "data": {
      "text/plain": [
       "{0: <NodeGene-origin:3,inno_num:0,type:'input',bias:0.0,activation:'linear'>,\n",
       " 1: <NodeGene-origin:3,inno_num:1,type:'output',bias:0.0,activation:'linear'>,\n",
       " 2: <NodeGene-origin:3,inno_num:2,type:'output',bias:0.0,activation:'linear'>,\n",
       " 3: <NodeGene-origin:2,inno_num:3,type:'hidden',bias:0.0,activation:'linear'>}"
      ]
     },
     "execution_count": 22,
     "metadata": {},
     "output_type": "execute_result"
    }
   ],
   "source": [
    "a.genes"
   ]
  },
  {
   "cell_type": "code",
   "execution_count": 23,
   "metadata": {},
   "outputs": [],
   "source": [
    "b = a.copy()"
   ]
  },
  {
   "cell_type": "code",
   "execution_count": 25,
   "metadata": {},
   "outputs": [
    {
     "data": {
      "text/plain": [
       "{0: <NodeGene-origin:3,inno_num:0,type:'input',bias:0.0,activation:'linear'>,\n",
       " 1: <NodeGene-origin:3,inno_num:1,type:'output',bias:0.0,activation:'linear'>,\n",
       " 2: <NodeGene-origin:3,inno_num:2,type:'output',bias:0.0,activation:'linear'>,\n",
       " 3: <NodeGene-origin:2,inno_num:3,type:'hidden',bias:0.0,activation:'linear'>}"
      ]
     },
     "execution_count": 25,
     "metadata": {},
     "output_type": "execute_result"
    }
   ],
   "source": [
    "b.genes"
   ]
  },
  {
   "cell_type": "code",
   "execution_count": 26,
   "metadata": {},
   "outputs": [],
   "source": [
    "b.add_gene(Genotype.NodeGene('hidden', 3))"
   ]
  },
  {
   "cell_type": "code",
   "execution_count": 27,
   "metadata": {},
   "outputs": [
    {
     "data": {
      "text/plain": [
       "{0: <NodeGene-origin:3,inno_num:0,type:'input',bias:0.0,activation:'linear'>,\n",
       " 1: <NodeGene-origin:3,inno_num:1,type:'output',bias:0.0,activation:'linear'>,\n",
       " 2: <NodeGene-origin:3,inno_num:2,type:'output',bias:0.0,activation:'linear'>,\n",
       " 3: <NodeGene-origin:2,inno_num:3,type:'hidden',bias:0.0,activation:'linear'>,\n",
       " 4: <NodeGene-origin:3,inno_num:4,type:'hidden',bias:0.0,activation:'linear'>}"
      ]
     },
     "execution_count": 27,
     "metadata": {},
     "output_type": "execute_result"
    }
   ],
   "source": [
    "b.genes"
   ]
  },
  {
   "cell_type": "code",
   "execution_count": 28,
   "metadata": {},
   "outputs": [
    {
     "data": {
      "text/plain": [
       "{0: <NodeGene-origin:3,inno_num:0,type:'input',bias:0.0,activation:'linear'>,\n",
       " 1: <NodeGene-origin:3,inno_num:1,type:'output',bias:0.0,activation:'linear'>,\n",
       " 2: <NodeGene-origin:3,inno_num:2,type:'output',bias:0.0,activation:'linear'>,\n",
       " 3: <NodeGene-origin:2,inno_num:3,type:'hidden',bias:0.0,activation:'linear'>}"
      ]
     },
     "execution_count": 28,
     "metadata": {},
     "output_type": "execute_result"
    }
   ],
   "source": [
    "a.genes"
   ]
  },
  {
   "cell_type": "code",
   "execution_count": 29,
   "metadata": {},
   "outputs": [],
   "source": [
    "a.add_gene(Genotype.NodeGene('hidden', 5))"
   ]
  },
  {
   "cell_type": "code",
   "execution_count": 30,
   "metadata": {},
   "outputs": [
    {
     "data": {
      "text/plain": [
       "{0: <NodeGene-origin:3,inno_num:0,type:'input',bias:0.0,activation:'linear'>,\n",
       " 1: <NodeGene-origin:3,inno_num:1,type:'output',bias:0.0,activation:'linear'>,\n",
       " 2: <NodeGene-origin:3,inno_num:2,type:'output',bias:0.0,activation:'linear'>,\n",
       " 3: <NodeGene-origin:2,inno_num:3,type:'hidden',bias:0.0,activation:'linear'>,\n",
       " 5: <NodeGene-origin:5,inno_num:5,type:'hidden',bias:0.0,activation:'linear'>}"
      ]
     },
     "execution_count": 30,
     "metadata": {},
     "output_type": "execute_result"
    }
   ],
   "source": [
    "a.genes"
   ]
  },
  {
   "cell_type": "code",
   "execution_count": null,
   "metadata": {},
   "outputs": [],
   "source": []
  }
 ],
 "metadata": {
  "kernelspec": {
   "display_name": "Python [conda env:neuroevolution_3.6]",
   "language": "python",
   "name": "conda-env-neuroevolution_3.6-py"
  },
  "language_info": {
   "codemirror_mode": {
    "name": "ipython",
    "version": 3
   },
   "file_extension": ".py",
   "mimetype": "text/x-python",
   "name": "python",
   "nbconvert_exporter": "python",
   "pygments_lexer": "ipython3",
   "version": "3.6.6"
  }
 },
 "nbformat": 4,
 "nbformat_minor": 2
}
