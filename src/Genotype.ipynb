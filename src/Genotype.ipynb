{
 "cells": [
  {
   "cell_type": "code",
   "execution_count": 28,
   "metadata": {},
   "outputs": [],
   "source": [
    "from importer import *"
   ]
  },
  {
   "cell_type": "code",
   "execution_count": 29,
   "metadata": {},
   "outputs": [
    {
     "name": "stdout",
     "output_type": "stream",
     "text": [
      "Importing Jupyter notebook from Gene.ipynb\n",
      "Importing Jupyter notebook from Helpers.ipynb\n",
      "Importing Jupyter notebook from Gene.ipynb\n",
      "Importing Jupyter notebook from Helpers.ipynb\n",
      "Importing Jupyter notebook from Gene.ipynb\n",
      "Importing Jupyter notebook from Helpers.ipynb\n"
     ]
    }
   ],
   "source": [
    "class Genotype:\n",
    "    NodeGene = loader.load_module(\"Gene\").NodeGene\n",
    "    ConnectionGene = loader.load_module(\"Gene\").ConnectionGene\n",
    "    PseudoGene = loader.load_module(\"Gene\").PseudoGene\n",
    "    generation = 0\n",
    "    def __init__(self, input_dim, output_dim, generation):\n",
    "        self.genes = {} #innovation number --> gene lookup\n",
    "        Genotype.generation = generation\n",
    "#         for i in range(input_dim):\n",
    "#             g = NodeGene(generation=Genotype.generation, _type='input', )\n",
    "#             self.genes[]\n",
    "    \n",
    "    def add_gene(self, gene):\n",
    "        assert gene.inno_num not in self.genes #temporary\n",
    "        self.genes[gene.inno_num] = gene\n",
    "    \n",
    "    #returns a child genotype after the crossover operation is complete\n",
    "    @staticmethod\n",
    "    def crossover(more_fit_parent, less_fit_parent):\n",
    "#         child = Genotype()\n",
    "        pass\n",
    "#         for \n",
    "    \n",
    "    def copy(self):\n",
    "        pass\n",
    "        \n",
    "        "
   ]
  },
  {
   "cell_type": "code",
   "execution_count": 27,
   "metadata": {},
   "outputs": [],
   "source": [
    "a = Genotype(1, 2, 3)"
   ]
  },
  {
   "cell_type": "code",
   "execution_count": null,
   "metadata": {},
   "outputs": [],
   "source": []
  },
  {
   "cell_type": "code",
   "execution_count": null,
   "metadata": {},
   "outputs": [],
   "source": []
  }
 ],
 "metadata": {
  "kernelspec": {
   "display_name": "Python [conda env:neuroevolution_3.6]",
   "language": "python",
   "name": "conda-env-neuroevolution_3.6-py"
  },
  "language_info": {
   "codemirror_mode": {
    "name": "ipython",
    "version": 3
   },
   "file_extension": ".py",
   "mimetype": "text/x-python",
   "name": "python",
   "nbconvert_exporter": "python",
   "pygments_lexer": "ipython3",
   "version": "3.6.6"
  }
 },
 "nbformat": 4,
 "nbformat_minor": 2
}
