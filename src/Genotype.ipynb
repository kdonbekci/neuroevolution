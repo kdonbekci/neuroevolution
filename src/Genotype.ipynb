{
 "cells": [
  {
   "cell_type": "markdown",
   "metadata": {},
   "source": [
    "# Genotype"
   ]
  },
  {
   "cell_type": "markdown",
   "metadata": {},
   "source": [
    "### Code"
   ]
  },
  {
   "cell_type": "code",
   "execution_count": 2,
   "metadata": {},
   "outputs": [],
   "source": [
    "from importer import *\n",
    "from helpers import Distributions\n",
    "\n",
    "class Genotype:\n",
    "    Gene = loader.load_module(\"Gene\").Gene\n",
    "    NodeGene = loader.load_module(\"Gene\").NodeGene\n",
    "    ConnectionGene = loader.load_module(\"Gene\").ConnectionGene\n",
    "    PseudoGene = loader.load_module(\"Gene\").PseudoGene\n",
    "    \n",
    "    def __init__(self, input_dim=None, output_dim=None, generation=None, copy=False, genotype=None):\n",
    "        self.mutable_genes = {} #innovation number --> gene lookup\n",
    "        self.fixed_genes = {}\n",
    "        if not copy:\n",
    "            self.innovations = []\n",
    "            self.origin = generation\n",
    "            for _ in range(input_dim):\n",
    "                g_in = Genotype.NodeGene(_type='input', generation=self.origin)\n",
    "                self.add_gene(g_in, fixed=True)\n",
    "            for _ in range(output_dim):\n",
    "                g_out = Genotype.NodeGene(_type='output', generation=self.origin,)\n",
    "                self.add_gene(g_out, fixed=True)\n",
    "        else:\n",
    "            self.origin = genotype.origin\n",
    "            for i in genotype.mutable_genes:\n",
    "                self.mutable_genes[i] = genotype.mutable_genes[i].copy()\n",
    "            for i in genotype.fixed_genes:\n",
    "                self.fixed_genes[i] = genotype.fixed_genes[i].copy()                \n",
    "            self.innovations = genotype.innovations.copy()\n",
    "        \n",
    "    def add_gene(self, gene, fixed=False):\n",
    "#         assert gene.inno_num not in self.genes #temporary\n",
    "        if fixed:\n",
    "            self.fixed_genes[gene.inno_num] = gene\n",
    "        else:\n",
    "            self.mutable_genes[gene.inno_num] = gene\n",
    "            self.innovations.append(gene.inno_num)\n",
    "\n",
    "    \n",
    "    #returns a child genotype after the crossover operation is complete\n",
    "    @staticmethod\n",
    "    def crossover(more_fit_parent, less_fit_parent, generation):\n",
    "        child = Genotype(0, 0, generation) #in order to create empty genotype\n",
    "        for inno_num in more_fit_parent.innovations:\n",
    "            if less_fit_parent.mutable_genes.get(inno_num) is not None:\n",
    "                gene = more_fit_parent.mutable_genes[inno_num] if Distributions.coin_toss() else less_fit_parent.mutable_genes[inno_num]\n",
    "            else:\n",
    "                gene = more_fit_parent.mutable_genes[inno_num]\n",
    "            child.add_gene(gene.copy())\n",
    "        for inno_num in more_fit_parent.fixed_genes:\n",
    "            gene = more_fit_parent.fixed_genes[inno_num] if Distributions.coin_toss() else less_fit_parent.fixed_genes[inno_num]\n",
    "            child.add_gene(gene.copy(), fixed=True)\n",
    "        return child\n",
    "            \n",
    "    \n",
    "    def copy(self):\n",
    "        clone = Genotype(copy=True, genotype=self)\n",
    "        return clone\n",
    "    \n",
    "    def __repr__(self):\n",
    "        return '<Genotype-origin:{},mutable_genes:{}>'.format(self.origin, self.mutable_genes)\n",
    "        "
   ]
  },
  {
   "cell_type": "markdown",
   "metadata": {},
   "source": [
    "### Testing"
   ]
  },
  {
   "cell_type": "code",
   "execution_count": 3,
   "metadata": {},
   "outputs": [],
   "source": [
    "a = Genotype(1, 2, 1)\n",
    "b = a.copy()"
   ]
  },
  {
   "cell_type": "code",
   "execution_count": 4,
   "metadata": {},
   "outputs": [
    {
     "name": "stdout",
     "output_type": "stream",
     "text": [
      "<Genotype-origin:1,mutable_genes:{}>\n"
     ]
    }
   ],
   "source": [
    "print(a)"
   ]
  },
  {
   "cell_type": "code",
   "execution_count": 5,
   "metadata": {},
   "outputs": [
    {
     "data": {
      "text/plain": [
       "[]"
      ]
     },
     "execution_count": 5,
     "metadata": {},
     "output_type": "execute_result"
    }
   ],
   "source": [
    "a.innovations"
   ]
  },
  {
   "cell_type": "code",
   "execution_count": 6,
   "metadata": {},
   "outputs": [],
   "source": [
    "a.add_gene(Genotype.NodeGene('hidden', 3))\n",
    "a.add_gene(Genotype.NodeGene('hidden', 3))"
   ]
  },
  {
   "cell_type": "code",
   "execution_count": 7,
   "metadata": {},
   "outputs": [
    {
     "data": {
      "text/plain": [
       "[3, 4]"
      ]
     },
     "execution_count": 7,
     "metadata": {},
     "output_type": "execute_result"
    }
   ],
   "source": [
    "a.innovations"
   ]
  },
  {
   "cell_type": "code",
   "execution_count": 8,
   "metadata": {},
   "outputs": [],
   "source": [
    "a.add_gene(Genotype.ConnectionGene(0, 3, 2))"
   ]
  },
  {
   "cell_type": "code",
   "execution_count": 12,
   "metadata": {},
   "outputs": [
    {
     "data": {
      "text/plain": [
       "<Genotype-origin:1,mutable_genes:{3: <NodeGene-origin:3,inno_num:3,type:'hidden',bias:0.0,activation:'linear'>, 4: <NodeGene-origin:3,inno_num:4,type:'hidden',bias:0.0,activation:'linear'>, 0: <ConnectionGene-origin:2,inno_num:0,inNode:0,outNode:3,weight:-0.4220366142301771,expressed:True>}>"
      ]
     },
     "execution_count": 12,
     "metadata": {},
     "output_type": "execute_result"
    }
   ],
   "source": [
    "a"
   ]
  },
  {
   "cell_type": "code",
   "execution_count": 46,
   "metadata": {},
   "outputs": [],
   "source": [
    "b.add_gene(Genotype.NodeGene('hidden', 4))"
   ]
  },
  {
   "cell_type": "code",
   "execution_count": 48,
   "metadata": {},
   "outputs": [],
   "source": [
    "c = Genotype.crossover(a, b, 5)"
   ]
  },
  {
   "cell_type": "code",
   "execution_count": null,
   "metadata": {},
   "outputs": [],
   "source": []
  }
 ],
 "metadata": {
  "kernelspec": {
   "display_name": "Python [conda env:neuroevolution_3.6]",
   "language": "python",
   "name": "conda-env-neuroevolution_3.6-py"
  },
  "language_info": {
   "codemirror_mode": {
    "name": "ipython",
    "version": 3
   },
   "file_extension": ".py",
   "mimetype": "text/x-python",
   "name": "python",
   "nbconvert_exporter": "python",
   "pygments_lexer": "ipython3",
   "version": "3.6.6"
  }
 },
 "nbformat": 4,
 "nbformat_minor": 2
}
