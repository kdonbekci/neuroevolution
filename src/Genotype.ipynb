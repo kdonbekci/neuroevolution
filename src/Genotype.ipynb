{
 "cells": [
  {
   "cell_type": "code",
   "execution_count": 55,
   "metadata": {},
   "outputs": [],
   "source": [
    "from importer import *\n",
    "from helpers import Distributions"
   ]
  },
  {
   "cell_type": "code",
   "execution_count": 69,
   "metadata": {},
   "outputs": [
    {
     "name": "stdout",
     "output_type": "stream",
     "text": [
      "Importing Jupyter notebook from Gene.ipynb\n",
      "Importing Jupyter notebook from Gene.ipynb\n",
      "Importing Jupyter notebook from Gene.ipynb\n"
     ]
    }
   ],
   "source": [
    "class Genotype:\n",
    "    \n",
    "    NodeGene = loader.load_module(\"Gene\").NodeGene\n",
    "    ConnectionGene = loader.load_module(\"Gene\").ConnectionGene\n",
    "    PseudoGene = loader.load_module(\"Gene\").PseudoGene\n",
    "    \n",
    "    def __init__(self, input_dim=None, output_dim=None, generation=None, copy=False, genotype=None):\n",
    "        if not copy:\n",
    "            self.genes = {} #innovation number --> gene lookup\n",
    "            self.innovations = []\n",
    "            self.origin = generation\n",
    "            for _ in range(input_dim):\n",
    "                g_in = Genotype.NodeGene(_type='input', generation=self.origin)\n",
    "                self.add_gene(g_in)\n",
    "            for _ in range(output_dim):\n",
    "                g_out = Genotype.NodeGene(_type='output', generation=self.origin,)\n",
    "                self.add_gene(g_out)\n",
    "        else:\n",
    "            self.genes = {}\n",
    "            self.origin = genotype.origin\n",
    "            for i in genotype.genes:\n",
    "                self.genes[i] = genotype.genes[i].copy()\n",
    "            self.innovations = genotype.innovations.copy()\n",
    "        \n",
    "    def add_gene(self, gene):\n",
    "        assert gene.inno_num not in self.genes #temporary\n",
    "        self.genes[gene.inno_num] = gene\n",
    "        self.innovations.append(gene.inno_num)\n",
    "\n",
    "    \n",
    "    #returns a child genotype after the crossover operation is complete\n",
    "    @staticmethod\n",
    "    def crossover(more_fit_parent, less_fit_parent, generation):\n",
    "        child = Genotype(0, 0, generation) #in order to create empty genotype\n",
    "        for gene in more_fit_parent.genes:\n",
    "            \n",
    "            pass\n",
    "#         for \n",
    "    \n",
    "    def copy(self):\n",
    "        clone = Genotype(copy=True, genotype=self)\n",
    "        return clone\n",
    "        \n",
    "        "
   ]
  },
  {
   "cell_type": "code",
   "execution_count": 70,
   "metadata": {},
   "outputs": [],
   "source": [
    "a = Genotype(1, 2, 3)"
   ]
  },
  {
   "cell_type": "code",
   "execution_count": 71,
   "metadata": {},
   "outputs": [
    {
     "data": {
      "text/plain": [
       "[0, 1, 2]"
      ]
     },
     "execution_count": 71,
     "metadata": {},
     "output_type": "execute_result"
    }
   ],
   "source": [
    "a.innovations"
   ]
  },
  {
   "cell_type": "code",
   "execution_count": 72,
   "metadata": {},
   "outputs": [],
   "source": [
    "a.add_gene(Genotype.NodeGene('hidden', 2))"
   ]
  },
  {
   "cell_type": "code",
   "execution_count": 73,
   "metadata": {},
   "outputs": [
    {
     "data": {
      "text/plain": [
       "[0, 1, 2, 3]"
      ]
     },
     "execution_count": 73,
     "metadata": {},
     "output_type": "execute_result"
    }
   ],
   "source": [
    "a.innovations"
   ]
  },
  {
   "cell_type": "code",
   "execution_count": 74,
   "metadata": {},
   "outputs": [
    {
     "data": {
      "text/plain": [
       "{0: <NodeGene-origin:3,inno_num:0,type:'input',bias:0.0,activation:'linear'>,\n",
       " 1: <NodeGene-origin:3,inno_num:1,type:'output',bias:0.0,activation:'linear'>,\n",
       " 2: <NodeGene-origin:3,inno_num:2,type:'output',bias:0.0,activation:'linear'>,\n",
       " 3: <NodeGene-origin:2,inno_num:3,type:'hidden',bias:0.0,activation:'linear'>}"
      ]
     },
     "execution_count": 74,
     "metadata": {},
     "output_type": "execute_result"
    }
   ],
   "source": [
    "a.genes"
   ]
  },
  {
   "cell_type": "code",
   "execution_count": 75,
   "metadata": {},
   "outputs": [],
   "source": [
    "b = a.copy()"
   ]
  },
  {
   "cell_type": "code",
   "execution_count": 76,
   "metadata": {},
   "outputs": [
    {
     "data": {
      "text/plain": [
       "{0: <NodeGene-origin:3,inno_num:0,type:'input',bias:0.0,activation:'linear'>,\n",
       " 1: <NodeGene-origin:3,inno_num:1,type:'output',bias:0.0,activation:'linear'>,\n",
       " 2: <NodeGene-origin:3,inno_num:2,type:'output',bias:0.0,activation:'linear'>,\n",
       " 3: <NodeGene-origin:2,inno_num:3,type:'hidden',bias:0.0,activation:'linear'>}"
      ]
     },
     "execution_count": 76,
     "metadata": {},
     "output_type": "execute_result"
    }
   ],
   "source": [
    "b.genes"
   ]
  },
  {
   "cell_type": "code",
   "execution_count": 77,
   "metadata": {},
   "outputs": [
    {
     "data": {
      "text/plain": [
       "[0, 1, 2, 3]"
      ]
     },
     "execution_count": 77,
     "metadata": {},
     "output_type": "execute_result"
    }
   ],
   "source": [
    "b.innovations"
   ]
  },
  {
   "cell_type": "code",
   "execution_count": 78,
   "metadata": {},
   "outputs": [],
   "source": [
    "b.add_gene(Genotype.NodeGene('hidden', 3))"
   ]
  },
  {
   "cell_type": "code",
   "execution_count": 79,
   "metadata": {},
   "outputs": [
    {
     "data": {
      "text/plain": [
       "{0: <NodeGene-origin:3,inno_num:0,type:'input',bias:0.0,activation:'linear'>,\n",
       " 1: <NodeGene-origin:3,inno_num:1,type:'output',bias:0.0,activation:'linear'>,\n",
       " 2: <NodeGene-origin:3,inno_num:2,type:'output',bias:0.0,activation:'linear'>,\n",
       " 3: <NodeGene-origin:2,inno_num:3,type:'hidden',bias:0.0,activation:'linear'>,\n",
       " 4: <NodeGene-origin:3,inno_num:4,type:'hidden',bias:0.0,activation:'linear'>}"
      ]
     },
     "execution_count": 79,
     "metadata": {},
     "output_type": "execute_result"
    }
   ],
   "source": [
    "b.genes"
   ]
  },
  {
   "cell_type": "code",
   "execution_count": 80,
   "metadata": {},
   "outputs": [
    {
     "data": {
      "text/plain": [
       "{0: <NodeGene-origin:3,inno_num:0,type:'input',bias:0.0,activation:'linear'>,\n",
       " 1: <NodeGene-origin:3,inno_num:1,type:'output',bias:0.0,activation:'linear'>,\n",
       " 2: <NodeGene-origin:3,inno_num:2,type:'output',bias:0.0,activation:'linear'>,\n",
       " 3: <NodeGene-origin:2,inno_num:3,type:'hidden',bias:0.0,activation:'linear'>}"
      ]
     },
     "execution_count": 80,
     "metadata": {},
     "output_type": "execute_result"
    }
   ],
   "source": [
    "a.genes"
   ]
  },
  {
   "cell_type": "code",
   "execution_count": 81,
   "metadata": {},
   "outputs": [
    {
     "data": {
      "text/plain": [
       "[0, 1, 2, 3]"
      ]
     },
     "execution_count": 81,
     "metadata": {},
     "output_type": "execute_result"
    }
   ],
   "source": [
    "a.innovations"
   ]
  },
  {
   "cell_type": "code",
   "execution_count": 82,
   "metadata": {},
   "outputs": [
    {
     "data": {
      "text/plain": [
       "[0, 1, 2, 3, 4]"
      ]
     },
     "execution_count": 82,
     "metadata": {},
     "output_type": "execute_result"
    }
   ],
   "source": [
    "b.innovations"
   ]
  },
  {
   "cell_type": "code",
   "execution_count": null,
   "metadata": {},
   "outputs": [],
   "source": [
    "a.add_gene(Genotype.NodeGene('hidden', 5))"
   ]
  },
  {
   "cell_type": "code",
   "execution_count": null,
   "metadata": {},
   "outputs": [],
   "source": [
    "a.genes"
   ]
  },
  {
   "cell_type": "code",
   "execution_count": null,
   "metadata": {},
   "outputs": [],
   "source": []
  }
 ],
 "metadata": {
  "kernelspec": {
   "display_name": "Python [conda env:neuroevolution_3.6]",
   "language": "python",
   "name": "conda-env-neuroevolution_3.6-py"
  },
  "language_info": {
   "codemirror_mode": {
    "name": "ipython",
    "version": 3
   },
   "file_extension": ".py",
   "mimetype": "text/x-python",
   "name": "python",
   "nbconvert_exporter": "python",
   "pygments_lexer": "ipython3",
   "version": "3.6.6"
  }
 },
 "nbformat": 4,
 "nbformat_minor": 2
}
