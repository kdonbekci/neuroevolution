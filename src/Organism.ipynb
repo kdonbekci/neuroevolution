{
 "cells": [
  {
   "cell_type": "code",
   "execution_count": 4,
   "metadata": {},
   "outputs": [],
   "source": [
    "from importer import *"
   ]
  },
  {
   "cell_type": "code",
   "execution_count": 5,
   "metadata": {},
   "outputs": [
    {
     "name": "stdout",
     "output_type": "stream",
     "text": [
      "Importing Jupyter notebook from Genotype.ipynb\n",
      "Importing Jupyter notebook from Gene.ipynb\n",
      "Importing Jupyter notebook from Gene.ipynb\n",
      "Importing Jupyter notebook from Gene.ipynb\n",
      "Importing Jupyter notebook from Phenotype.ipynb\n"
     ]
    }
   ],
   "source": [
    "class Organism:\n",
    "    \n",
    "    Genotype = loader.load_module(\"Genotype\").Genotype\n",
    "    Phenotype = loader.load_module(\"Phenotype\").Phenotype\n",
    "    unique_id = 0\n",
    "    \n",
    "    def __init__(self, species_hint, input_dim, output_dim, generation):\n",
    "        self.fitness = []\n",
    "        self.id = Organism.unique_id\n",
    "        Organism.unique_id+=1 \n",
    "        self.species_hint = species_hint \n",
    "        self.genotype = Organism.Genotype(generation, input_dim, output_dim)\n",
    "        self.phenotype = Organism.Phenotype(self.genotype, self.id)\n",
    "    \n",
    "    def age(self, generation):\n",
    "        return generation - self.origin\n",
    "    \n",
    "    @property\n",
    "    def origin(self):\n",
    "        return self.genotype.origin\n",
    "        \n",
    "    \n",
    "    #method for sexual reproduction.\n",
    "    @staticmethod\n",
    "    def mate(parent1, parent2):\n",
    "        if parent1.fitness > parent2.fitness:\n",
    "            more_fit_parent = parent1\n",
    "            less_fit_parent = parent2\n",
    "            \n",
    "        else:\n",
    "            more_fit_parent = parent2\n",
    "            less_fit_parent = parent1\n",
    "        child_genotype = Organism.Genotype.crossovoer(more_fit_parent, less_fit_parent)\n",
    "        child = Organism(species_hint = more_fit_parent.species_hint, )\n",
    "\n",
    "        \n",
    "    \n",
    "        "
   ]
  },
  {
   "cell_type": "code",
   "execution_count": 6,
   "metadata": {},
   "outputs": [],
   "source": [
    "a = Organism(input_dim=1, output_dim=1, generation=1)"
   ]
  },
  {
   "cell_type": "code",
   "execution_count": 7,
   "metadata": {},
   "outputs": [
    {
     "data": {
      "text/plain": [
       "True"
      ]
     },
     "execution_count": 7,
     "metadata": {},
     "output_type": "execute_result"
    }
   ],
   "source": [
    "a.phenotype.id == a.id"
   ]
  },
  {
   "cell_type": "code",
   "execution_count": 8,
   "metadata": {},
   "outputs": [
    {
     "data": {
      "text/plain": [
       "1"
      ]
     },
     "execution_count": 8,
     "metadata": {},
     "output_type": "execute_result"
    }
   ],
   "source": [
    "a.origin"
   ]
  },
  {
   "cell_type": "code",
   "execution_count": null,
   "metadata": {},
   "outputs": [],
   "source": []
  }
 ],
 "metadata": {
  "kernelspec": {
   "display_name": "Python [conda env:neuroevolution_3.6]",
   "language": "python",
   "name": "conda-env-neuroevolution_3.6-py"
  },
  "language_info": {
   "codemirror_mode": {
    "name": "ipython",
    "version": 3
   },
   "file_extension": ".py",
   "mimetype": "text/x-python",
   "name": "python",
   "nbconvert_exporter": "python",
   "pygments_lexer": "ipython3",
   "version": "3.6.6"
  }
 },
 "nbformat": 4,
 "nbformat_minor": 2
}
