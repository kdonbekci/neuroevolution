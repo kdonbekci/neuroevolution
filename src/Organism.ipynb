{
 "cells": [
  {
   "cell_type": "code",
   "execution_count": 11,
   "metadata": {},
   "outputs": [],
   "source": [
    "from importer import *"
   ]
  },
  {
   "cell_type": "code",
   "execution_count": 14,
   "metadata": {},
   "outputs": [
    {
     "name": "stdout",
     "output_type": "stream",
     "text": [
      "Importing Jupyter notebook from Genotype.ipynb\n",
      "Importing Jupyter notebook from Gene.ipynb\n",
      "Importing Jupyter notebook from Gene.ipynb\n",
      "Importing Jupyter notebook from Gene.ipynb\n",
      "Importing Jupyter notebook from Phenotype.ipynb\n",
      "Importing Jupyter notebook from Fitness.ipynb\n"
     ]
    }
   ],
   "source": [
    "class Organism:\n",
    "    \n",
    "    Genotype = loader.load_module(\"Genotype\").Genotype\n",
    "    Phenotype = loader.load_module(\"Phenotype\").Phenotype\n",
    "    Fitness = loader.load_module(\"Fitness\").Fitness\n",
    "    unique_id = 0\n",
    "    \n",
    "    def __init__(self, species_hint):\n",
    "        self.fitness = Organism.Fitness()\n",
    "        self.id = Organism.unique_id\n",
    "        Organism.unique_id+=1 \n",
    "        self.species_hint = species_hint \n",
    "        \n",
    "    def generate_genotype(self, input_dim, output_dim, generation):\n",
    "        self.genotype = Organism.Genotype(generation, input_dim, output_dim)\n",
    "        \n",
    "    def add_genotype(self, genotype):\n",
    "        self.genotype = genotype\n",
    "        \n",
    "    def generate_phenotype(self):\n",
    "        self.phenotype = Organism.Phenotype(self.genotype, self.id)\n",
    "\n",
    "    def age(self, generation):\n",
    "        return generation - self.origin\n",
    "    \n",
    "    @property\n",
    "    def origin(self):\n",
    "        return self.genotype.origin\n",
    "        \n",
    "    #method for sexual reproduction.\n",
    "    @staticmethod\n",
    "    def mate(parent1, parent2):\n",
    "        if parent1.fitness > parent2.fitness:\n",
    "            more_fit_parent = parent1\n",
    "            less_fit_parent = parent2\n",
    "        else:\n",
    "            more_fit_parent = parent2\n",
    "            less_fit_parent = parent1\n",
    "        child_genotype = Organism.Genotype.crossovoer(more_fit_parent, less_fit_parent)\n",
    "        child = Organism(species_hint = more_fit_parent.species_hint)\n",
    "        child.add_genotype(child_genotype)\n",
    "        child.generate_phenotype()\n",
    "        return child\n",
    "    \n",
    "    @staticmethod\n",
    "    def genesis(species_hint, input_dim, output_dim, generation):\n",
    "        organism = Organism(species_hint)\n",
    "        organism.generate_genotype(input_dim, output_dim, generation)\n",
    "        organism.generate_phenotype()\n",
    "        return organism\n",
    "        \n",
    "    def __repr__(self):\n",
    "        return '<Organism-id:{},species_hint:{},genotype:{},fitness:{}>'.format(self.id, self.species_hint, self.genotype, self.fitness)\n",
    "    \n",
    "        "
   ]
  },
  {
   "cell_type": "code",
   "execution_count": 15,
   "metadata": {},
   "outputs": [],
   "source": [
    "a = Organism.genesis(1, 2, 1, 1)"
   ]
  },
  {
   "cell_type": "code",
   "execution_count": 16,
   "metadata": {},
   "outputs": [
    {
     "name": "stdout",
     "output_type": "stream",
     "text": [
      "<Organism-id:0,species_hint:1,genotype:<Genotype-origin:1,genes:{0: <NodeGene-origin:1,inno_num:0,type:'input',bias:0.0,activation:'linear'>, 1: <NodeGene-origin:1,inno_num:1,type:'output',bias:0.0,activation:'linear'>, 2: <NodeGene-origin:1,inno_num:2,type:'output',bias:0.0,activation:'linear'>}>,fitness:<Fitness.Fitness object at 0x7f334ca93d30>>\n"
     ]
    }
   ],
   "source": [
    "print(a)"
   ]
  },
  {
   "cell_type": "code",
   "execution_count": 12,
   "metadata": {},
   "outputs": [],
   "source": [
    "b=Organism(species_hint=2)"
   ]
  },
  {
   "cell_type": "code",
   "execution_count": null,
   "metadata": {},
   "outputs": [],
   "source": []
  },
  {
   "cell_type": "code",
   "execution_count": 7,
   "metadata": {},
   "outputs": [
    {
     "data": {
      "text/plain": [
       "True"
      ]
     },
     "execution_count": 7,
     "metadata": {},
     "output_type": "execute_result"
    }
   ],
   "source": [
    "a.phenotype.id == a.id"
   ]
  },
  {
   "cell_type": "code",
   "execution_count": 8,
   "metadata": {},
   "outputs": [
    {
     "data": {
      "text/plain": [
       "1"
      ]
     },
     "execution_count": 8,
     "metadata": {},
     "output_type": "execute_result"
    }
   ],
   "source": [
    "a.origin"
   ]
  },
  {
   "cell_type": "code",
   "execution_count": null,
   "metadata": {},
   "outputs": [],
   "source": []
  }
 ],
 "metadata": {
  "kernelspec": {
   "display_name": "Python [conda env:neuroevolution_3.6]",
   "language": "python",
   "name": "conda-env-neuroevolution_3.6-py"
  },
  "language_info": {
   "codemirror_mode": {
    "name": "ipython",
    "version": 3
   },
   "file_extension": ".py",
   "mimetype": "text/x-python",
   "name": "python",
   "nbconvert_exporter": "python",
   "pygments_lexer": "ipython3",
   "version": "3.6.6"
  }
 },
 "nbformat": 4,
 "nbformat_minor": 2
}
