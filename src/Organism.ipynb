{
 "cells": [
  {
   "cell_type": "markdown",
   "metadata": {},
   "source": [
    "# Organism"
   ]
  },
  {
   "cell_type": "markdown",
   "metadata": {},
   "source": [
    "### Code"
   ]
  },
  {
   "cell_type": "code",
   "execution_count": 19,
   "metadata": {},
   "outputs": [],
   "source": [
    "from importer import *"
   ]
  },
  {
   "cell_type": "code",
   "execution_count": 20,
   "metadata": {},
   "outputs": [
    {
     "name": "stdout",
     "output_type": "stream",
     "text": [
      "Importing Jupyter notebook from Genotype.ipynb\n",
      "Importing Jupyter notebook from Gene.ipynb\n",
      "Importing Jupyter notebook from Gene.ipynb\n",
      "Importing Jupyter notebook from Gene.ipynb\n",
      "Importing Jupyter notebook from Phenotype.ipynb\n",
      "Importing Jupyter notebook from Fitness.ipynb\n"
     ]
    }
   ],
   "source": [
    "class Organism:\n",
    "    \n",
    "    Genotype = loader.load_module(\"Genotype\").Genotype\n",
    "    Phenotype = loader.load_module(\"Phenotype\").Phenotype\n",
    "    Fitness = loader.load_module(\"Fitness\").Fitness\n",
    "    unique_id = 0\n",
    "    \n",
    "    def __init__(self, species_hint):\n",
    "        self.fitness = Organism.Fitness()\n",
    "        self.id = Organism.unique_id\n",
    "        Organism.unique_id+=1 \n",
    "        self.species_hint = species_hint \n",
    "        \n",
    "    #method for sexual reproduction.\n",
    "    @staticmethod\n",
    "    def mate(parent1, parent2, generation):\n",
    "        if parent1 > parent2:\n",
    "            more_fit_parent = parent1\n",
    "            less_fit_parent = parent2\n",
    "        else:\n",
    "            more_fit_parent = parent2\n",
    "            less_fit_parent = parent1\n",
    "        child_genotype = Organism.Genotype.crossover(more_fit_parent.genotype, less_fit_parent.genotype, generation)\n",
    "        child = Organism(species_hint = more_fit_parent.species_hint)\n",
    "        child.add_genotype(child_genotype)\n",
    "        child.generate_phenotype()\n",
    "        return child\n",
    "    \n",
    "    def asexually_reproduce(self):\n",
    "        child = Organism(self.species_hint)\n",
    "        child.add_genotype(self.genotype.copy())\n",
    "        child.generate_phenotype()\n",
    "        return child\n",
    "    \n",
    "    def evaluate(self, ):\n",
    "        self.phenotype.evaluate(fn)\n",
    "        \n",
    "    \n",
    "    #method for the first organisms created\n",
    "    @staticmethod\n",
    "    def genesis(species_hint, input_dim, output_dim, generation):\n",
    "        organism = Organism(species_hint)\n",
    "        organism.generate_genotype(input_dim, output_dim, generation)\n",
    "        organism.generate_phenotype()\n",
    "        return organism\n",
    "       \n",
    "    def copy(self):\n",
    "        clone = Organism(self.species_hint)\n",
    "        \n",
    "    def generate_genotype(self, input_dim, output_dim, generation):\n",
    "        self.genotype = Organism.Genotype(generation, input_dim, output_dim)\n",
    "        \n",
    "    def add_genotype(self, genotype):\n",
    "        self.genotype = genotype\n",
    "        \n",
    "    def generate_phenotype(self):\n",
    "        self.phenotype = Organism.Phenotype(self.genotype, self.id)\n",
    "\n",
    "    def age(self, generation):\n",
    "        return generation - self.origin\n",
    "    \n",
    "    @property\n",
    "    def origin(self):\n",
    "        assert 'genotype' in self.__dict__, 'Genotype of organism not yet initialized'\n",
    "        return self.genotype.origin\n",
    "    \n",
    "    def __repr__(self):\n",
    "        return '<Organism-id:{},species_hint:{},genotype:{},fitness:{}>'.format(self.id, self.species_hint, self.genotype, self.fitness)\n",
    "    \n",
    "    #compare their fitness\n",
    "    def __lt__(self, other):\n",
    "        return self.fitness < other.fitness\n",
    "    \n",
    "        "
   ]
  },
  {
   "cell_type": "markdown",
   "metadata": {},
   "source": [
    "### Testing"
   ]
  },
  {
   "cell_type": "code",
   "execution_count": 21,
   "metadata": {},
   "outputs": [],
   "source": [
    "a = Organism.genesis(1, 2, 1, 1)\n",
    "b = Organism.genesis(1, 2, 1, 1)"
   ]
  },
  {
   "cell_type": "code",
   "execution_count": 22,
   "metadata": {},
   "outputs": [],
   "source": [
    "a.fitness.add_fitness_record(10)\n",
    "b.fitness.add_fitness_record(5)"
   ]
  },
  {
   "cell_type": "code",
   "execution_count": 23,
   "metadata": {},
   "outputs": [],
   "source": [
    "c = Organism.mate(a, b, 2)"
   ]
  },
  {
   "cell_type": "code",
   "execution_count": 24,
   "metadata": {},
   "outputs": [
    {
     "data": {
      "text/plain": [
       "<Organism-id:2,species_hint:1,genotype:<Genotype-origin:2,genes:{0: <NodeGene-origin:1,inno_num:0,type:'input',bias:0.0,activation:'linear'>, 1: <NodeGene-origin:1,inno_num:1,type:'output',bias:0.0,activation:'linear'>, 2: <NodeGene-origin:1,inno_num:2,type:'output',bias:0.0,activation:'linear'>}>,fitness:<Fitness-histrory:[]>>"
      ]
     },
     "execution_count": 24,
     "metadata": {},
     "output_type": "execute_result"
    }
   ],
   "source": [
    "c"
   ]
  },
  {
   "cell_type": "code",
   "execution_count": 25,
   "metadata": {},
   "outputs": [
    {
     "data": {
      "text/plain": [
       "<Organism-id:3,species_hint:1,genotype:<Genotype-origin:2,genes:{0: <NodeGene-origin:1,inno_num:0,type:'input',bias:0.0,activation:'linear'>, 1: <NodeGene-origin:1,inno_num:1,type:'output',bias:0.0,activation:'linear'>, 2: <NodeGene-origin:1,inno_num:2,type:'output',bias:0.0,activation:'linear'>}>,fitness:<Fitness-histrory:[]>>"
      ]
     },
     "execution_count": 25,
     "metadata": {},
     "output_type": "execute_result"
    }
   ],
   "source": [
    "c.asexually_reproduce()"
   ]
  },
  {
   "cell_type": "code",
   "execution_count": 26,
   "metadata": {},
   "outputs": [
    {
     "data": {
      "text/plain": [
       "1"
      ]
     },
     "execution_count": 26,
     "metadata": {},
     "output_type": "execute_result"
    }
   ],
   "source": [
    "a.origin"
   ]
  },
  {
   "cell_type": "code",
   "execution_count": 27,
   "metadata": {},
   "outputs": [
    {
     "name": "stdout",
     "output_type": "stream",
     "text": [
      "<Organism-id:0,species_hint:1,genotype:<Genotype-origin:1,genes:{0: <NodeGene-origin:1,inno_num:0,type:'input',bias:0.0,activation:'linear'>, 1: <NodeGene-origin:1,inno_num:1,type:'output',bias:0.0,activation:'linear'>, 2: <NodeGene-origin:1,inno_num:2,type:'output',bias:0.0,activation:'linear'>}>,fitness:<Fitness-histrory:[10]>>\n"
     ]
    }
   ],
   "source": [
    "print(a)"
   ]
  }
 ],
 "metadata": {
  "kernelspec": {
   "display_name": "Python [conda env:neuroevolution_3.6]",
   "language": "python",
   "name": "conda-env-neuroevolution_3.6-py"
  },
  "language_info": {
   "codemirror_mode": {
    "name": "ipython",
    "version": 3
   },
   "file_extension": ".py",
   "mimetype": "text/x-python",
   "name": "python",
   "nbconvert_exporter": "python",
   "pygments_lexer": "ipython3",
   "version": "3.6.6"
  }
 },
 "nbformat": 4,
 "nbformat_minor": 2
}
