{
 "cells": [
  {
   "cell_type": "code",
   "execution_count": 29,
   "metadata": {},
   "outputs": [],
   "source": [
    "from importer import *"
   ]
  },
  {
   "cell_type": "code",
   "execution_count": 33,
   "metadata": {},
   "outputs": [
    {
     "name": "stdout",
     "output_type": "stream",
     "text": [
      "Importing Jupyter notebook from Genotype.ipynb\n",
      "Importing Jupyter notebook from Phenotype.ipynb\n"
     ]
    }
   ],
   "source": [
    "class Organism:\n",
    "    Genotype = loader.load_module(\"Genotype\").Genotype\n",
    "    Phenotype = loader.load_module(\"Phenotype\").Phenotype\n",
    "    unique_id = 0\n",
    "    generation = 0\n",
    "    def __init__(self, age=None, fitness=None, _id=None, species_hint=None, genotype=None, input_dim=None, output_dim=None, phenotype=None, generation=None):\n",
    "        self.age = 0 if age is None else age\n",
    "        self.fitness = [] if fitness is None else fitness\n",
    "        if _id is None:\n",
    "            self.id = Organism.unique_id\n",
    "            Organism.unique_id+=1 \n",
    "        else:\n",
    "            self.id = _id\n",
    "        self.species_hint = -1 if species_hint is None else species_hint\n",
    "        self.genotype = Organism.Genotype(input_dim, output_dim, generation) if genotype is None else genotype\n",
    "        self.phenotype = Organism.Phenotype(self.genotype, self.id) if phenotype is None else phenotype\n",
    "    \n",
    "    #method for sexual reproduction.\n",
    "    @staticmethod\n",
    "    def mate(parent1, parent2):\n",
    "        if parent1.fitness > parent2.fitness:\n",
    "            more_fit_parent = parent1\n",
    "            less_fit_parent = parent2\n",
    "        else:\n",
    "            more_fit_parent = parent2\n",
    "            less_fit_parent = parent1\n",
    "        \n",
    "            \n",
    "\n",
    "        \n",
    "    \n",
    "        "
   ]
  },
  {
   "cell_type": "code",
   "execution_count": 31,
   "metadata": {},
   "outputs": [],
   "source": [
    "a = Organism(input_dim=1, output_dim=1, generation=1)"
   ]
  },
  {
   "cell_type": "code",
   "execution_count": 32,
   "metadata": {},
   "outputs": [
    {
     "data": {
      "text/plain": [
       "True"
      ]
     },
     "execution_count": 32,
     "metadata": {},
     "output_type": "execute_result"
    }
   ],
   "source": [
    "a.phenotype.id == a.id"
   ]
  },
  {
   "cell_type": "code",
   "execution_count": null,
   "metadata": {},
   "outputs": [],
   "source": []
  }
 ],
 "metadata": {
  "kernelspec": {
   "display_name": "Python [conda env:neuroevolution_3.6]",
   "language": "python",
   "name": "conda-env-neuroevolution_3.6-py"
  },
  "language_info": {
   "codemirror_mode": {
    "name": "ipython",
    "version": 3
   },
   "file_extension": ".py",
   "mimetype": "text/x-python",
   "name": "python",
   "nbconvert_exporter": "python",
   "pygments_lexer": "ipython3",
   "version": "3.6.6"
  }
 },
 "nbformat": 4,
 "nbformat_minor": 2
}
