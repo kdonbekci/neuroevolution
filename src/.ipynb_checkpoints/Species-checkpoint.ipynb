{
 "cells": [
  {
   "cell_type": "code",
   "execution_count": 9,
   "metadata": {},
   "outputs": [],
   "source": [
    "from importer import *\n",
    "from helpers import Distributions"
   ]
  },
  {
   "cell_type": "code",
   "execution_count": 10,
   "metadata": {},
   "outputs": [
    {
     "name": "stdout",
     "output_type": "stream",
     "text": [
      "Importing Jupyter notebook from Organism.ipynb\n",
      "Importing Jupyter notebook from Genotype.ipynb\n",
      "Importing Jupyter notebook from Gene.ipynb\n",
      "Importing Jupyter notebook from Gene.ipynb\n",
      "Importing Jupyter notebook from Gene.ipynb\n",
      "Importing Jupyter notebook from Phenotype.ipynb\n"
     ]
    }
   ],
   "source": [
    "class Species:\n",
    "    Organism = loader.load_module(\"Organism\").Organism\n",
    "    unique_id = 0\n",
    "    def __init__(self):\n",
    "        self.id = Species.unique_id\n",
    "        Species.unique_id+=1\n",
    "        self.organisms={}\n",
    "    \n",
    "    def add_organism(self, organism):\n",
    "        assert organism.id not in self.organisms, 'Organism {} already in dictionary'.format(organism.id)\n",
    "        self.organisms[organism.id] = organism\n",
    "        \n",
    "    def get_random_member(self):\n",
    "        return Distributions.choice(self.organisms)\n",
    "    \n",
    "    @property\n",
    "    def size(self):\n",
    "        return len(self.organisms)\n",
    "    \n",
    "    @staticmethod\n",
    "    def generate_initial_species(size, input_dim, output_dim):\n",
    "        first_species = Species()\n",
    "        for i in range(size):\n",
    "            org = Species.Organism()\n",
    "            first_species.add_organism(org)\n",
    "        return first_species\n",
    "            \n",
    "            \n",
    "        "
   ]
  },
  {
   "cell_type": "code",
   "execution_count": 3,
   "metadata": {},
   "outputs": [],
   "source": [
    "a = Species()"
   ]
  },
  {
   "cell_type": "code",
   "execution_count": 4,
   "metadata": {},
   "outputs": [
    {
     "data": {
      "text/plain": [
       "<__main__.Species at 0x7f214896bf60>"
      ]
     },
     "execution_count": 4,
     "metadata": {},
     "output_type": "execute_result"
    }
   ],
   "source": [
    "a.generate_initial_species(100, 1, 1)"
   ]
  },
  {
   "cell_type": "code",
   "execution_count": 6,
   "metadata": {},
   "outputs": [
    {
     "data": {
      "text/plain": [
       "{}"
      ]
     },
     "execution_count": 6,
     "metadata": {},
     "output_type": "execute_result"
    }
   ],
   "source": [
    "a.organisms"
   ]
  },
  {
   "cell_type": "code",
   "execution_count": null,
   "metadata": {},
   "outputs": [],
   "source": []
  },
  {
   "cell_type": "code",
   "execution_count": null,
   "metadata": {},
   "outputs": [],
   "source": []
  }
 ],
 "metadata": {
  "kernelspec": {
   "display_name": "Python [conda env:neuroevolution_3.6]",
   "language": "python",
   "name": "conda-env-neuroevolution_3.6-py"
  },
  "language_info": {
   "codemirror_mode": {
    "name": "ipython",
    "version": 3
   },
   "file_extension": ".py",
   "mimetype": "text/x-python",
   "name": "python",
   "nbconvert_exporter": "python",
   "pygments_lexer": "ipython3",
   "version": "3.6.6"
  }
 },
 "nbformat": 4,
 "nbformat_minor": 2
}
