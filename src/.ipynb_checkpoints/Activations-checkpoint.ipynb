{
 "cells": [
  {
   "cell_type": "code",
   "execution_count": 1,
   "metadata": {},
   "outputs": [],
   "source": [
    "import math"
   ]
  },
  {
   "cell_type": "code",
   "execution_count": 2,
   "metadata": {},
   "outputs": [],
   "source": [
    "def sigmoid(z):\n",
    "    z = max(-60.0, min(60.0, 5.0 * z))\n",
    "    return 1.0 / (1.0 + math.exp(-z))\n",
    "\n",
    "def linear(z):\n",
    "    return z\n",
    "\n",
    "def tanh(z):\n",
    "    z = max(-60.0, min(60.0, 2.5 * z))\n",
    "    return math.tanh(z)\n",
    "\n",
    "\n",
    "def sin(z):\n",
    "    z = max(-60.0, min(60.0, 5.0 * z))\n",
    "    return math.sin(z)\n",
    "\n",
    "\n",
    "def gauss(z):\n",
    "    z = max(-3.4, min(3.4, z))\n",
    "    return math.exp(-5.0 * z**2)\n",
    "\n",
    "\n",
    "def relu(z):\n",
    "    return z if z > 0.0 else 0.0\n",
    "\n",
    "\n",
    "def softplus(z):\n",
    "    z = max(-60.0, min(60.0, 5.0 * z))\n",
    "    return 0.2 * math.log(1 + math.exp(z))\n",
    "\n",
    "\n",
    "def identity(z):\n",
    "    return z\n",
    "\n",
    "\n",
    "def clamped(z):\n",
    "    return max(-1.0, min(1.0, z))\n",
    "\n",
    "\n",
    "def inv(z):\n",
    "    try:\n",
    "        z = 1.0 / z\n",
    "    except ArithmeticError: # handle overflows\n",
    "        return 0.0\n",
    "    else:\n",
    "        return z\n",
    "\n",
    "\n",
    "def log(z):\n",
    "    z = max(1e-7, z)\n",
    "    return math.log(z)\n",
    "\n",
    "\n",
    "def exp(z):\n",
    "    z = max(-60.0, min(60.0, z))\n",
    "    return math.exp(z)\n",
    "\n",
    "\n",
    "def hat(z):\n",
    "    return max(0.0, 1 - abs(z))\n",
    "\n",
    "\n",
    "def square(z):\n",
    "    return z ** 2\n",
    "\n",
    "\n",
    "def cube(z):\n",
    "    return z ** 3\n"
   ]
  },
  {
   "cell_type": "code",
   "execution_count": 7,
   "metadata": {},
   "outputs": [],
   "source": [
    "class Activations:\n",
    "    def __init__(self):\n",
    "        self.functions = {}\n",
    "        self.add('sigmoid', sigmoid)\n",
    "        self.add('tanh', tanh)\n",
    "        self.add('sin', sin)\n",
    "        self.add('gauss', gauss)\n",
    "        self.add('relu', relu)\n",
    "        self.add('softplus', softplus)\n",
    "        self.add('identity', identity)\n",
    "        self.add('clamped', clamped)\n",
    "        self.add('inv', inv)\n",
    "        self.add('log', log)\n",
    "        self.add('exp', exp)\n",
    "        self.add('abs', abs)\n",
    "        self.add('hat', hat)\n",
    "        self.add('square', square)\n",
    "        self.add('cube', cube)\n",
    "        self.add('linear', linear)\n",
    "    \n",
    "    def add (self, fn, f):\n",
    "        self.functions[fn] = f\n",
    "        \n",
    "    def get(self, fn):\n",
    "        f = self.functions.get(fn)\n",
    "        assert f is not None, '{} is not a valid activation function'.format(fn)\n",
    "        return f"
   ]
  },
  {
   "cell_type": "code",
   "execution_count": 4,
   "metadata": {},
   "outputs": [],
   "source": [
    "a = Activations()"
   ]
  },
  {
   "cell_type": "code",
   "execution_count": 6,
   "metadata": {},
   "outputs": [
    {
     "data": {
      "text/plain": [
       "<function __main__.square(z)>"
      ]
     },
     "execution_count": 6,
     "metadata": {},
     "output_type": "execute_result"
    }
   ],
   "source": [
    "a.get('square')"
   ]
  }
 ],
 "metadata": {
  "kernelspec": {
   "display_name": "Python [conda env:neuroevolution_3.6]",
   "language": "python",
   "name": "conda-env-neuroevolution_3.6-py"
  },
  "language_info": {
   "codemirror_mode": {
    "name": "ipython",
    "version": 3
   },
   "file_extension": ".py",
   "mimetype": "text/x-python",
   "name": "python",
   "nbconvert_exporter": "python",
   "pygments_lexer": "ipython3",
   "version": "3.6.6"
  }
 },
 "nbformat": 4,
 "nbformat_minor": 2
}
