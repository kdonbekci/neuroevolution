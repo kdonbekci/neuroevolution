{
 "cells": [
  {
   "cell_type": "code",
   "execution_count": 1,
   "metadata": {},
   "outputs": [],
   "source": [
    "import math\n",
    "from operator import mul"
   ]
  },
  {
   "cell_type": "code",
   "execution_count": 8,
   "metadata": {},
   "outputs": [],
   "source": [
    "def product(x): # note: `x` is a list or other iterable\n",
    "    return reduce(mul, x, 1.0)\n",
    "\n",
    "def maxabs(x):\n",
    "    return max(x, key=abs)\n",
    "\n",
    "def median(x):\n",
    "    values = list(x)\n",
    "    n = len(values)\n",
    "    if n <= 2:\n",
    "        return mean(values)\n",
    "    values.sort()\n",
    "    if (n % 2) == 1:\n",
    "        return values[n//2]\n",
    "    i = n//2\n",
    "    return (values[i - 1] + values[i])/2.0\n",
    "\n",
    "def mean(x):\n",
    "    values = list(x)\n",
    "    return sum(map(float, values)) / len(values)"
   ]
  },
  {
   "cell_type": "code",
   "execution_count": 11,
   "metadata": {},
   "outputs": [],
   "source": [
    "class Aggregations():\n",
    "\n",
    "    def __init__(self):\n",
    "        self.functions = {}\n",
    "        self.add('product', product)\n",
    "        self.add('sum', sum)\n",
    "        self.add('max', max)\n",
    "        self.add('min', min)\n",
    "        self.add('maxabs', maxabs)\n",
    "        self.add('median', median)\n",
    "        self.add('mean', mean)\n",
    "\n",
    "    def add(self, fn, f):\n",
    "        self.functions[fn] = f\n",
    "\n",
    "    def get(self, fn):\n",
    "        f = self.functions.get(fn)\n",
    "        assert f is not None, '{} is not a valid aggregation function'.format(fn)\n",
    "        return f"
   ]
  },
  {
   "cell_type": "code",
   "execution_count": 12,
   "metadata": {},
   "outputs": [],
   "source": [
    "a = Aggregations()"
   ]
  },
  {
   "cell_type": "code",
   "execution_count": 13,
   "metadata": {},
   "outputs": [
    {
     "data": {
      "text/plain": [
       "<function __main__.maxabs(x)>"
      ]
     },
     "execution_count": 13,
     "metadata": {},
     "output_type": "execute_result"
    }
   ],
   "source": [
    "a.get('maxabs')"
   ]
  }
 ],
 "metadata": {
  "kernelspec": {
   "display_name": "Python [conda env:neuroevolution_3.6]",
   "language": "python",
   "name": "conda-env-neuroevolution_3.6-py"
  },
  "language_info": {
   "codemirror_mode": {
    "name": "ipython",
    "version": 3
   },
   "file_extension": ".py",
   "mimetype": "text/x-python",
   "name": "python",
   "nbconvert_exporter": "python",
   "pygments_lexer": "ipython3",
   "version": "3.6.6"
  }
 },
 "nbformat": 4,
 "nbformat_minor": 2
}
