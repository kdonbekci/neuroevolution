{
 "cells": [
  {
   "cell_type": "code",
   "execution_count": 6,
   "metadata": {},
   "outputs": [],
   "source": [
    "from importer import *\n",
    "from helpers import Distributions"
   ]
  },
  {
   "cell_type": "code",
   "execution_count": 11,
   "metadata": {},
   "outputs": [
    {
     "name": "stdout",
     "output_type": "stream",
     "text": [
      "Importing Jupyter notebook from Organism.ipynb\n",
      "Importing Jupyter notebook from Genotype.ipynb\n",
      "Importing Jupyter notebook from Gene.ipynb\n",
      "Importing Jupyter notebook from Gene.ipynb\n",
      "Importing Jupyter notebook from Gene.ipynb\n",
      "Importing Jupyter notebook from Phenotype.ipynb\n"
     ]
    }
   ],
   "source": [
    "class Species:\n",
    "    Organism = loader.load_module(\"Organism\").Organism\n",
    "    unique_id = 0\n",
    "    origin=0\n",
    "    def __init__(self, input_dim, output_dim, generation):\n",
    "        self.id = Species.unique_id\n",
    "        Species.unique_id+=1\n",
    "        self.organisms={}\n",
    "        self.origin = generation\n",
    "        self.cached_organism = None #to be used for speciation after clear\n",
    "    \n",
    "    def add_organism(self, organism):\n",
    "        assert organism.id not in self.organisms, 'Organism {} already in dictionary'.format(organism.id)\n",
    "        self.organisms[organism.id] = organism\n",
    "        organism.species_hint = self.id\n",
    "        \n",
    "        \n",
    "    def get_random_member(self):\n",
    "        return Distributions.choice(self.organisms)\n",
    "    \n",
    "    @property\n",
    "    def size(self):\n",
    "        return len(self.organisms)\n",
    "    \n",
    "    @staticmethod\n",
    "    def generate_initial_species(size, input_dim, output_dim, generation):\n",
    "        first_species = Species(input_dim, output_dim, generation)\n",
    "        for i in range(size):\n",
    "            org = Species.Organism(species_hint=first_species.id, input_dim=input_dim, output_dim=output_dim, generation=generation)\n",
    "            print('a')\n",
    "            first_species.add_organism(org)\n",
    "        return first_species\n",
    "    \n",
    "    def clear(self):\n",
    "        self.cached_organism = self.get_random_member()\n",
    "        self.organisms = {}\n",
    "        \n",
    "        \n",
    "            \n",
    "            \n",
    "        "
   ]
  },
  {
   "cell_type": "code",
   "execution_count": 10,
   "metadata": {},
   "outputs": [
    {
     "ename": "TypeError",
     "evalue": "'NoneType' object cannot be interpreted as an integer",
     "output_type": "error",
     "traceback": [
      "\u001b[0;31m---------------------------------------------------------------------------\u001b[0m",
      "\u001b[0;31mTypeError\u001b[0m                                 Traceback (most recent call last)",
      "\u001b[0;32m<ipython-input-10-f5aafcd44494>\u001b[0m in \u001b[0;36m<module>\u001b[0;34m\u001b[0m\n\u001b[0;32m----> 1\u001b[0;31m \u001b[0ma\u001b[0m \u001b[0;34m=\u001b[0m \u001b[0mSpecies\u001b[0m\u001b[0;34m.\u001b[0m\u001b[0mgenerate_initial_species\u001b[0m\u001b[0;34m(\u001b[0m\u001b[0;36m100\u001b[0m\u001b[0;34m,\u001b[0m \u001b[0;36m1\u001b[0m\u001b[0;34m,\u001b[0m \u001b[0;36m2\u001b[0m\u001b[0;34m,\u001b[0m \u001b[0;36m1\u001b[0m\u001b[0;34m)\u001b[0m\u001b[0;34m\u001b[0m\u001b[0m\n\u001b[0m",
      "\u001b[0;32m<ipython-input-9-c3fdd7861d9a>\u001b[0m in \u001b[0;36mgenerate_initial_species\u001b[0;34m(size, input_dim, output_dim, generation)\u001b[0m\n\u001b[1;32m     27\u001b[0m         \u001b[0mfirst_species\u001b[0m \u001b[0;34m=\u001b[0m \u001b[0mSpecies\u001b[0m\u001b[0;34m(\u001b[0m\u001b[0minput_dim\u001b[0m\u001b[0;34m,\u001b[0m \u001b[0moutput_dim\u001b[0m\u001b[0;34m,\u001b[0m \u001b[0mgeneration\u001b[0m\u001b[0;34m)\u001b[0m\u001b[0;34m\u001b[0m\u001b[0m\n\u001b[1;32m     28\u001b[0m         \u001b[0;32mfor\u001b[0m \u001b[0mi\u001b[0m \u001b[0;32min\u001b[0m \u001b[0mrange\u001b[0m\u001b[0;34m(\u001b[0m\u001b[0msize\u001b[0m\u001b[0;34m)\u001b[0m\u001b[0;34m:\u001b[0m\u001b[0;34m\u001b[0m\u001b[0m\n\u001b[0;32m---> 29\u001b[0;31m             \u001b[0morg\u001b[0m \u001b[0;34m=\u001b[0m \u001b[0mSpecies\u001b[0m\u001b[0;34m.\u001b[0m\u001b[0mOrganism\u001b[0m\u001b[0;34m(\u001b[0m\u001b[0;34m)\u001b[0m\u001b[0;34m\u001b[0m\u001b[0m\n\u001b[0m\u001b[1;32m     30\u001b[0m             \u001b[0mprint\u001b[0m\u001b[0;34m(\u001b[0m\u001b[0;34m'a'\u001b[0m\u001b[0;34m)\u001b[0m\u001b[0;34m\u001b[0m\u001b[0m\n\u001b[1;32m     31\u001b[0m             \u001b[0mfirst_species\u001b[0m\u001b[0;34m.\u001b[0m\u001b[0madd_organism\u001b[0m\u001b[0;34m(\u001b[0m\u001b[0morg\u001b[0m\u001b[0;34m)\u001b[0m\u001b[0;34m\u001b[0m\u001b[0m\n",
      "\u001b[0;32m~/Projects/neuroevolution/src/Organism.ipynb\u001b[0m in \u001b[0;36m__init__\u001b[0;34m(self, age, fitness, _id, species_hint, genotype, input_dim, output_dim, phenotype, generation)\u001b[0m\n\u001b[1;32m     12\u001b[0m   {\n\u001b[1;32m     13\u001b[0m    \u001b[0;34m\"cell_type\"\u001b[0m\u001b[0;34m:\u001b[0m \u001b[0;34m\"code\"\u001b[0m\u001b[0;34m,\u001b[0m\u001b[0;34m\u001b[0m\u001b[0m\n\u001b[0;32m---> 14\u001b[0;31m    \u001b[0;34m\"execution_count\"\u001b[0m\u001b[0;34m:\u001b[0m \u001b[0;36m5\u001b[0m\u001b[0;34m,\u001b[0m\u001b[0;34m\u001b[0m\u001b[0m\n\u001b[0m\u001b[1;32m     15\u001b[0m    \u001b[0;34m\"metadata\"\u001b[0m\u001b[0;34m:\u001b[0m \u001b[0;34m{\u001b[0m\u001b[0;34m}\u001b[0m\u001b[0;34m,\u001b[0m\u001b[0;34m\u001b[0m\u001b[0m\n\u001b[1;32m     16\u001b[0m    \"outputs\": [\n",
      "\u001b[0;32m~/Projects/neuroevolution/src/Genotype.ipynb\u001b[0m in \u001b[0;36m__init__\u001b[0;34m(self, input_dim, output_dim, generation)\u001b[0m\n\u001b[1;32m      8\u001b[0m    \"source\": [\n\u001b[1;32m      9\u001b[0m     \u001b[0;34m\"from importer import *\"\u001b[0m\u001b[0;34m\u001b[0m\u001b[0m\n\u001b[0;32m---> 10\u001b[0;31m    ]\n\u001b[0m\u001b[1;32m     11\u001b[0m   },\n\u001b[1;32m     12\u001b[0m   {\n",
      "\u001b[0;31mTypeError\u001b[0m: 'NoneType' object cannot be interpreted as an integer"
     ]
    }
   ],
   "source": [
    "a = Species.generate_initial_species(100, 1, 2, 1)"
   ]
  },
  {
   "cell_type": "code",
   "execution_count": 4,
   "metadata": {},
   "outputs": [
    {
     "ename": "NameError",
     "evalue": "name 'a' is not defined",
     "output_type": "error",
     "traceback": [
      "\u001b[0;31m---------------------------------------------------------------------------\u001b[0m",
      "\u001b[0;31mNameError\u001b[0m                                 Traceback (most recent call last)",
      "\u001b[0;32m<ipython-input-4-131cab633212>\u001b[0m in \u001b[0;36m<module>\u001b[0;34m\u001b[0m\n\u001b[0;32m----> 1\u001b[0;31m \u001b[0ma\u001b[0m\u001b[0;34m.\u001b[0m\u001b[0mgenerate_initial_species\u001b[0m\u001b[0;34m(\u001b[0m\u001b[0;36m100\u001b[0m\u001b[0;34m,\u001b[0m \u001b[0;36m1\u001b[0m\u001b[0;34m,\u001b[0m \u001b[0;36m1\u001b[0m\u001b[0;34m)\u001b[0m\u001b[0;34m\u001b[0m\u001b[0m\n\u001b[0m",
      "\u001b[0;31mNameError\u001b[0m: name 'a' is not defined"
     ]
    }
   ],
   "source": [
    "a.generate_initial_species(100, 1, 1)"
   ]
  },
  {
   "cell_type": "code",
   "execution_count": 6,
   "metadata": {},
   "outputs": [
    {
     "data": {
      "text/plain": [
       "{}"
      ]
     },
     "execution_count": 6,
     "metadata": {},
     "output_type": "execute_result"
    }
   ],
   "source": [
    "a.organisms"
   ]
  },
  {
   "cell_type": "code",
   "execution_count": null,
   "metadata": {},
   "outputs": [],
   "source": []
  },
  {
   "cell_type": "code",
   "execution_count": null,
   "metadata": {},
   "outputs": [],
   "source": []
  }
 ],
 "metadata": {
  "kernelspec": {
   "display_name": "Python [conda env:neuroevolution_3.6]",
   "language": "python",
   "name": "conda-env-neuroevolution_3.6-py"
  },
  "language_info": {
   "codemirror_mode": {
    "name": "ipython",
    "version": 3
   },
   "file_extension": ".py",
   "mimetype": "text/x-python",
   "name": "python",
   "nbconvert_exporter": "python",
   "pygments_lexer": "ipython3",
   "version": "3.6.6"
  }
 },
 "nbformat": 4,
 "nbformat_minor": 2
}
