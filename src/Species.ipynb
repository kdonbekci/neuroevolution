{
 "cells": [
  {
   "cell_type": "markdown",
   "metadata": {},
   "source": [
    "# Species"
   ]
  },
  {
   "cell_type": "markdown",
   "metadata": {},
   "source": [
    "### Code"
   ]
  },
  {
   "cell_type": "code",
   "execution_count": 9,
   "metadata": {},
   "outputs": [],
   "source": [
    "from importer import *\n",
    "from helpers import Distributions"
   ]
  },
  {
   "cell_type": "code",
   "execution_count": 6,
   "metadata": {},
   "outputs": [
    {
     "name": "stdout",
     "output_type": "stream",
     "text": [
      "Importing Jupyter notebook from Organism.ipynb\n",
      "Importing Jupyter notebook from Genotype.ipynb\n",
      "Importing Jupyter notebook from Gene.ipynb\n",
      "Importing Jupyter notebook from Gene.ipynb\n",
      "Importing Jupyter notebook from Gene.ipynb\n",
      "Importing Jupyter notebook from Phenotype.ipynb\n",
      "Importing Jupyter notebook from Fitness.ipynb\n"
     ]
    }
   ],
   "source": [
    "class Species:\n",
    "    Organism = loader.load_module(\"Organism\").Organism\n",
    "    unique_id = 0\n",
    "    \n",
    "    def __init__(self, input_dim, output_dim, generation):\n",
    "        self.id = Species.unique_id\n",
    "        Species.unique_id+=1\n",
    "        self.organisms={}\n",
    "        self.origin = generation\n",
    "        self.cached_organism = None #to be used for speciation after clear\n",
    "    \n",
    "    def add_organism(self, organism):\n",
    "        assert organism.id not in self.organisms, 'Organism {} already in dictionary'.format(organism.id)\n",
    "        self.organisms[organism.id] = organism\n",
    "        organism.species_hint = self.id\n",
    "        \n",
    "        \n",
    "    def get_random_member(self):\n",
    "        return Distributions.choice(self.organisms)\n",
    "    \n",
    "    @property\n",
    "    def size(self):\n",
    "        return len(self.organisms)\n",
    "    \n",
    "    @staticmethod\n",
    "    def generate_initial_species(size, input_dim, output_dim, generation):\n",
    "        first_species = Species(input_dim, output_dim, generation)\n",
    "        for i in range(size):\n",
    "            org = Species.Organism.genesis(species_hint=first_species.id, input_dim=input_dim, output_dim=output_dim, generation=generation)\n",
    "            first_species.add_organism(org)\n",
    "        return first_species\n",
    "    \n",
    "    def clear(self):\n",
    "        self.cached_organism = self.get_random_member()\n",
    "        self.organisms = {}\n",
    "        \n",
    "    def __repr__(self):\n",
    "        return '<Species-id:{},origin:{},size:{}>'.format(self.id, self.origin, self.size)    "
   ]
  },
  {
   "cell_type": "markdown",
   "metadata": {},
   "source": [
    "### Testing"
   ]
  },
  {
   "cell_type": "code",
   "execution_count": 7,
   "metadata": {},
   "outputs": [],
   "source": [
    "a = Species.generate_initial_species(100, 1, 2, 1)"
   ]
  },
  {
   "cell_type": "code",
   "execution_count": 8,
   "metadata": {},
   "outputs": [
    {
     "data": {
      "text/plain": [
       "<Species-id:0,origin:1,size:100>"
      ]
     },
     "execution_count": 8,
     "metadata": {},
     "output_type": "execute_result"
    }
   ],
   "source": [
    "a"
   ]
  },
  {
   "cell_type": "code",
   "execution_count": null,
   "metadata": {},
   "outputs": [],
   "source": []
  }
 ],
 "metadata": {
  "kernelspec": {
   "display_name": "Python [conda env:neuroevolution_3.6]",
   "language": "python",
   "name": "conda-env-neuroevolution_3.6-py"
  },
  "language_info": {
   "codemirror_mode": {
    "name": "ipython",
    "version": 3
   },
   "file_extension": ".py",
   "mimetype": "text/x-python",
   "name": "python",
   "nbconvert_exporter": "python",
   "pygments_lexer": "ipython3",
   "version": "3.6.6"
  }
 },
 "nbformat": 4,
 "nbformat_minor": 2
}
