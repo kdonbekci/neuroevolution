{
 "cells": [
  {
   "cell_type": "code",
   "execution_count": 1,
   "metadata": {},
   "outputs": [],
   "source": [
    "from helpers import MathOperations, Distributions"
   ]
  },
  {
   "cell_type": "code",
   "execution_count": 16,
   "metadata": {},
   "outputs": [],
   "source": [
    "class Fitness:\n",
    "    \n",
    "    def __init__(self):\n",
    "        self.history = []\n",
    "        \n",
    "    def add_fitness_record(self, record):\n",
    "        self.history.append(record)\n",
    "        \n",
    "    def __lt__(self, other):\n",
    "        mean_dif = MathOperations.mean(self.history) - MathOperations.mean(self.history)\n",
    "        max_dif = max(self.history) - max(other.history)\n",
    "        median_dif = MathOperations.median(self.history) - MathOperations.median(other.history)\n",
    "        c_mean, c_max, c_median = Distributions.sample_normal(3, 1, 3)\n",
    "        _sum = sum([c_mean, c_max, c_median])\n",
    "        c_mean, c_max, c_median = c_mean/_sum, c_max/_sum, c_median/_sum\n",
    "        score = c_mean * mean_dif + c_max * max_dif + c_median * median_dif\n",
    "        return score < 0.0\n",
    "    \n",
    "    def clear(self):\n",
    "        self.history = []\n",
    "        \n",
    "    def __repr__(self):\n",
    "        return '<Fitness-histrory:{}>'.format(self.history)\n",
    "    "
   ]
  },
  {
   "cell_type": "code",
   "execution_count": 8,
   "metadata": {},
   "outputs": [],
   "source": [
    "a = Fitness()\n",
    "b = Fitness()"
   ]
  },
  {
   "cell_type": "code",
   "execution_count": 9,
   "metadata": {},
   "outputs": [],
   "source": [
    "a.add_fitness_record(5)\n",
    "b.add_fitness_record(1)"
   ]
  },
  {
   "cell_type": "code",
   "execution_count": 15,
   "metadata": {},
   "outputs": [
    {
     "data": {
      "text/plain": [
       "True"
      ]
     },
     "execution_count": 15,
     "metadata": {},
     "output_type": "execute_result"
    }
   ],
   "source": [
    "a > b"
   ]
  },
  {
   "cell_type": "code",
   "execution_count": 55,
   "metadata": {},
   "outputs": [
    {
     "data": {
      "text/plain": [
       "(1.5124676638395922, 4.3537444453100465, 2.3482148214957235)"
      ]
     },
     "execution_count": 55,
     "metadata": {},
     "output_type": "execute_result"
    }
   ],
   "source": [
    "c1, c2, c3 = Distributions.sample_normal(3, 1, 3)\n",
    "c1,c2,c3"
   ]
  },
  {
   "cell_type": "code",
   "execution_count": 57,
   "metadata": {},
   "outputs": [],
   "source": [
    "_sum = sum([c1, c2, c3])"
   ]
  },
  {
   "cell_type": "code",
   "execution_count": 59,
   "metadata": {},
   "outputs": [],
   "source": [
    "c1, c2, c3 = c1/_sum, c2/_sum, c3/_sum"
   ]
  },
  {
   "cell_type": "code",
   "execution_count": null,
   "metadata": {},
   "outputs": [],
   "source": []
  },
  {
   "cell_type": "code",
   "execution_count": 22,
   "metadata": {},
   "outputs": [
    {
     "data": {
      "text/plain": [
       "array([0.5, 1. , 1.5])"
      ]
     },
     "execution_count": 22,
     "metadata": {},
     "output_type": "execute_result"
    }
   ],
   "source": [
    "np.array([1, 2, 3]) / 2"
   ]
  },
  {
   "cell_type": "code",
   "execution_count": null,
   "metadata": {},
   "outputs": [],
   "source": []
  }
 ],
 "metadata": {
  "kernelspec": {
   "display_name": "Python [conda env:neuroevolution_3.6]",
   "language": "python",
   "name": "conda-env-neuroevolution_3.6-py"
  },
  "language_info": {
   "codemirror_mode": {
    "name": "ipython",
    "version": 3
   },
   "file_extension": ".py",
   "mimetype": "text/x-python",
   "name": "python",
   "nbconvert_exporter": "python",
   "pygments_lexer": "ipython3",
   "version": "3.6.6"
  }
 },
 "nbformat": 4,
 "nbformat_minor": 2
}
