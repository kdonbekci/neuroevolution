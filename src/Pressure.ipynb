{
 "cells": [
  {
   "cell_type": "markdown",
   "metadata": {},
   "source": [
    "# Pressure"
   ]
  },
  {
   "cell_type": "markdown",
   "metadata": {},
   "source": [
    "### Code"
   ]
  },
  {
   "cell_type": "code",
   "execution_count": 19,
   "metadata": {},
   "outputs": [],
   "source": [
    "class Pressure:\n",
    "    \n",
    "    def __init__(self, condition, condition_inputs, function, function_inputs, function_constant, description):\n",
    "        self.condition = condition\n",
    "        self.condition_inputs = condition_inputs\n",
    "        self.function = function\n",
    "        self.function_inputs = function_inputs\n",
    "        self.function_constant = function_constant\n",
    "        self.description = description\n",
    "    \n",
    "    def is_active(self, **kwargs):\n",
    "        inputs = [kwargs[_input] for _input in self.condition_inputs]\n",
    "        return self.condition(*inputs)\n",
    "        \n",
    "    def __repr__(self):\n",
    "        return '<Pressure-description:\\'{}\\'>'.format(self.description)\n",
    "            \n",
    "        "
   ]
  },
  {
   "cell_type": "markdown",
   "metadata": {},
   "source": [
    "### Testing"
   ]
  },
  {
   "cell_type": "code",
   "execution_count": 17,
   "metadata": {},
   "outputs": [],
   "source": [
    "p = Pressure(lambda generation: generation>20 and generation%3 == 0, ['generation'], lambda x: -x, 10, ['network_size'],\n",
    "             'every 3 generations after 20th, lose network size')"
   ]
  },
  {
   "cell_type": "code",
   "execution_count": 18,
   "metadata": {},
   "outputs": [
    {
     "data": {
      "text/plain": [
       "True"
      ]
     },
     "execution_count": 18,
     "metadata": {},
     "output_type": "execute_result"
    }
   ],
   "source": [
    "p.is_active(a = 5, b = 2, network_size = 1, generation=21)"
   ]
  },
  {
   "cell_type": "code",
   "execution_count": 20,
   "metadata": {},
   "outputs": [],
   "source": [
    "p2 = Pressure(lambda: True, [], lambda x, y: (x and not y) or (not x and y), ['input'], 10, 'always try to beat xor')"
   ]
  },
  {
   "cell_type": "code",
   "execution_count": 71,
   "metadata": {},
   "outputs": [
    {
     "data": {
      "text/plain": [
       "True"
      ]
     },
     "execution_count": 71,
     "metadata": {},
     "output_type": "execute_result"
    }
   ],
   "source": [
    "p2.is_active(a = 5, b = 2, network_size = 1, generation=15)"
   ]
  },
  {
   "cell_type": "code",
   "execution_count": 12,
   "metadata": {},
   "outputs": [
    {
     "data": {
      "text/plain": [
       "\"<Pressure-description:'every 3 generations, lose network size'>\""
      ]
     },
     "execution_count": 12,
     "metadata": {},
     "output_type": "execute_result"
    }
   ],
   "source": [
    "str(p)"
   ]
  },
  {
   "cell_type": "code",
   "execution_count": null,
   "metadata": {},
   "outputs": [],
   "source": []
  }
 ],
 "metadata": {
  "kernelspec": {
   "display_name": "Python [conda env:neuroevolution_3.6]",
   "language": "python",
   "name": "conda-env-neuroevolution_3.6-py"
  },
  "language_info": {
   "codemirror_mode": {
    "name": "ipython",
    "version": 3
   },
   "file_extension": ".py",
   "mimetype": "text/x-python",
   "name": "python",
   "nbconvert_exporter": "python",
   "pygments_lexer": "ipython3",
   "version": "3.6.6"
  }
 },
 "nbformat": 4,
 "nbformat_minor": 2
}
