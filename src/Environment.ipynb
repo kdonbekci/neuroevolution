{
 "cells": [
  {
   "cell_type": "markdown",
   "metadata": {
    "toc-hr-collapsed": true
   },
   "source": [
    "# Environment\n",
    "\n",
    "The environment object sets the variable evaluation criterion and is responsible for incorporating selective pressures. The environment object is where the simulation runs."
   ]
  },
  {
   "cell_type": "code",
   "execution_count": 6,
   "metadata": {},
   "outputs": [],
   "source": [
    "from importer import *\n",
    "from config import Configuration"
   ]
  },
  {
   "cell_type": "code",
   "execution_count": 7,
   "metadata": {},
   "outputs": [
    {
     "name": "stdout",
     "output_type": "stream",
     "text": [
      "Importing Jupyter notebook from Population.ipynb\n",
      "Importing Jupyter notebook from Species.ipynb\n",
      "Importing Jupyter notebook from Organism.ipynb\n",
      "Importing Jupyter notebook from Genotype.ipynb\n",
      "Importing Jupyter notebook from Gene.ipynb\n",
      "Importing Jupyter notebook from Gene.ipynb\n",
      "Importing Jupyter notebook from Gene.ipynb\n",
      "Importing Jupyter notebook from Phenotype.ipynb\n"
     ]
    }
   ],
   "source": [
    "class Environment:\n",
    "    Population = loader.load_module(\"Population\").Population\n",
    "    \n",
    "    def __init__(self, input_dim, output_dim):\n",
    "        self.population = Environment.Population\n",
    "        self.input_dim = input_dim\n",
    "        self.output_dim = output_dim\n",
    "        self.pressures = []\n",
    "        self.generation = 0\n",
    "    \n",
    "    def generate_initial_population(self, initial_population_size):\n",
    "        Population.generate_initial_population(initial_population_size, self.input_dim, self.output_dim)\n",
    "\n",
    "    def add_pressures(self, pressure):\n",
    "        self.pressures.append(pressure)\n",
    "    \n",
    "    def speciate(self):\n",
    "        pass\n",
    "    \n",
    "    def epoch(self):\n",
    "        self.generation+=1 \n",
    "        \n",
    "        \n",
    "    def evaluate(self):\n",
    "        pass"
   ]
  },
  {
   "cell_type": "code",
   "execution_count": 9,
   "metadata": {},
   "outputs": [],
   "source": [
    "env1 = Environment(100, 2, 1)"
   ]
  }
 ],
 "metadata": {
  "kernelspec": {
   "display_name": "Python [conda env:neuroevolution_3.6]",
   "language": "python",
   "name": "conda-env-neuroevolution_3.6-py"
  },
  "language_info": {
   "codemirror_mode": {
    "name": "ipython",
    "version": 3
   },
   "file_extension": ".py",
   "mimetype": "text/x-python",
   "name": "python",
   "nbconvert_exporter": "python",
   "pygments_lexer": "ipython3",
   "version": "3.6.6"
  },
  "toc-autonumbering": false,
  "toc-showmarkdowntxt": false
 },
 "nbformat": 4,
 "nbformat_minor": 2
}
