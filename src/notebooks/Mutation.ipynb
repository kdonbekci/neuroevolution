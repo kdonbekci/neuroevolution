{
 "cells": [
  {
   "cell_type": "markdown",
   "metadata": {},
   "source": [
    "# Mutation"
   ]
  },
  {
   "cell_type": "markdown",
   "metadata": {},
   "source": [
    "### Code"
   ]
  },
  {
   "cell_type": "code",
   "execution_count": null,
   "metadata": {},
   "outputs": [],
   "source": [
    "class Mutation:\n",
    "    \n",
    "    def __init__(self):\n",
    "        pass\n",
    "\n",
    "class AddConnectionMutation(Mutation): #adds a connection between two already existing nodes\n",
    "    pass\n",
    "\n",
    "class AddNodeMutation(Mutation): #adds a node between an already existing connection\n",
    "    pass\n",
    "\n",
    "class ChangeNodeMutation(Mutation): #changes the node attribute (activation function, aggregation function)\n",
    "    pass\n",
    "\n",
    "class ChangeConnectionMutation(Mutation)\n",
    "\n",
    "def ResetWeightMutation(Mutation): #resets the weight of a connection\n",
    "    pass\n",
    "\n",
    "def DisableConnectionMutation(Mutation):\n",
    "    pass"
   ]
  },
  {
   "cell_type": "markdown",
   "metadata": {},
   "source": [
    "### Testing"
   ]
  }
 ],
 "metadata": {
  "kernelspec": {
   "display_name": "Python [conda env:neuroevolution_3.6]",
   "language": "python",
   "name": "conda-env-neuroevolution_3.6-py"
  },
  "language_info": {
   "codemirror_mode": {
    "name": "ipython",
    "version": 3
   },
   "file_extension": ".py",
   "mimetype": "text/x-python",
   "name": "python",
   "nbconvert_exporter": "python",
   "pygments_lexer": "ipython3",
   "version": "3.6.6"
  }
 },
 "nbformat": 4,
 "nbformat_minor": 2
}
