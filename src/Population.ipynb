{
 "cells": [
  {
   "cell_type": "code",
   "execution_count": 17,
   "metadata": {},
   "outputs": [],
   "source": [
    "from importer import *"
   ]
  },
  {
   "cell_type": "code",
   "execution_count": 18,
   "metadata": {},
   "outputs": [
    {
     "name": "stdout",
     "output_type": "stream",
     "text": [
      "Importing Jupyter notebook from Species.ipynb\n",
      "Importing Jupyter notebook from Organism.ipynb\n",
      "Importing Jupyter notebook from Genotype.ipynb\n",
      "Importing Jupyter notebook from Gene.ipynb\n",
      "Importing Jupyter notebook from Gene.ipynb\n",
      "Importing Jupyter notebook from Gene.ipynb\n",
      "Importing Jupyter notebook from Phenotype.ipynb\n"
     ]
    }
   ],
   "source": [
    "class Population:\n",
    "    Species = loader.load_module(\"Species\").Species\n",
    "    def __init__(self):\n",
    "        self.species = {}\n",
    "        self.organisms = {}\n",
    "        \n",
    "    def generate_initial_population(self, size, input_dim, output_dim, generation):\n",
    "        initial_species = Population.Species.generate_initial_species(size, input_dim, output_dim, generation)\n",
    "        self.add_species(initial_species)\n",
    "        self.add_organisms(initial_species.organisms)\n",
    "        \n",
    "    def add_species(self, species):\n",
    "        assert species.id not in self.species, 'Species {} already in dictionary'\n",
    "        self.species[species.id] = species\n",
    "        \n",
    "    def add_organisms(self, organisms):\n",
    "        print(organisms)\n",
    "                    "
   ]
  },
  {
   "cell_type": "code",
   "execution_count": 19,
   "metadata": {},
   "outputs": [],
   "source": [
    "p = Population()\n"
   ]
  },
  {
   "cell_type": "code",
   "execution_count": 20,
   "metadata": {},
   "outputs": [
    {
     "ename": "TypeError",
     "evalue": "'NoneType' object cannot be interpreted as an integer",
     "output_type": "error",
     "traceback": [
      "\u001b[0;31m---------------------------------------------------------------------------\u001b[0m",
      "\u001b[0;31mTypeError\u001b[0m                                 Traceback (most recent call last)",
      "\u001b[0;32m<ipython-input-20-7d1ffaf6c2de>\u001b[0m in \u001b[0;36m<module>\u001b[0;34m\u001b[0m\n\u001b[0;32m----> 1\u001b[0;31m \u001b[0mp\u001b[0m\u001b[0;34m.\u001b[0m\u001b[0mgenerate_initial_population\u001b[0m\u001b[0;34m(\u001b[0m\u001b[0;36m100\u001b[0m\u001b[0;34m,\u001b[0m \u001b[0;36m1\u001b[0m\u001b[0;34m,\u001b[0m \u001b[0;36m2\u001b[0m\u001b[0;34m,\u001b[0m \u001b[0;36m1\u001b[0m\u001b[0;34m)\u001b[0m\u001b[0;34m\u001b[0m\u001b[0m\n\u001b[0m",
      "\u001b[0;32m<ipython-input-18-0d90a1bee67a>\u001b[0m in \u001b[0;36mgenerate_initial_population\u001b[0;34m(self, size, input_dim, output_dim, generation)\u001b[0m\n\u001b[1;32m      6\u001b[0m \u001b[0;34m\u001b[0m\u001b[0m\n\u001b[1;32m      7\u001b[0m     \u001b[0;32mdef\u001b[0m \u001b[0mgenerate_initial_population\u001b[0m\u001b[0;34m(\u001b[0m\u001b[0mself\u001b[0m\u001b[0;34m,\u001b[0m \u001b[0msize\u001b[0m\u001b[0;34m,\u001b[0m \u001b[0minput_dim\u001b[0m\u001b[0;34m,\u001b[0m \u001b[0moutput_dim\u001b[0m\u001b[0;34m,\u001b[0m \u001b[0mgeneration\u001b[0m\u001b[0;34m)\u001b[0m\u001b[0;34m:\u001b[0m\u001b[0;34m\u001b[0m\u001b[0m\n\u001b[0;32m----> 8\u001b[0;31m         \u001b[0minitial_species\u001b[0m \u001b[0;34m=\u001b[0m \u001b[0mPopulation\u001b[0m\u001b[0;34m.\u001b[0m\u001b[0mSpecies\u001b[0m\u001b[0;34m.\u001b[0m\u001b[0mgenerate_initial_species\u001b[0m\u001b[0;34m(\u001b[0m\u001b[0msize\u001b[0m\u001b[0;34m,\u001b[0m \u001b[0minput_dim\u001b[0m\u001b[0;34m,\u001b[0m \u001b[0moutput_dim\u001b[0m\u001b[0;34m,\u001b[0m \u001b[0mgeneration\u001b[0m\u001b[0;34m)\u001b[0m\u001b[0;34m\u001b[0m\u001b[0m\n\u001b[0m\u001b[1;32m      9\u001b[0m         \u001b[0mself\u001b[0m\u001b[0;34m.\u001b[0m\u001b[0madd_species\u001b[0m\u001b[0;34m(\u001b[0m\u001b[0minitial_species\u001b[0m\u001b[0;34m)\u001b[0m\u001b[0;34m\u001b[0m\u001b[0m\n\u001b[1;32m     10\u001b[0m         \u001b[0mself\u001b[0m\u001b[0;34m.\u001b[0m\u001b[0madd_organisms\u001b[0m\u001b[0;34m(\u001b[0m\u001b[0minitial_species\u001b[0m\u001b[0;34m.\u001b[0m\u001b[0morganisms\u001b[0m\u001b[0;34m)\u001b[0m\u001b[0;34m\u001b[0m\u001b[0m\n",
      "\u001b[0;32m~/Projects/neuroevolution/src/Species.ipynb\u001b[0m in \u001b[0;36mgenerate_initial_species\u001b[0;34m(size, input_dim, output_dim, generation)\u001b[0m\n\u001b[1;32m     27\u001b[0m       \u001b[0;34m\"Importing Jupyter notebook from Phenotype.ipynb\\n\"\u001b[0m\u001b[0;34m\u001b[0m\u001b[0m\n\u001b[1;32m     28\u001b[0m      ]\n\u001b[0;32m---> 29\u001b[0;31m     }\n\u001b[0m\u001b[1;32m     30\u001b[0m    ],\n\u001b[1;32m     31\u001b[0m    \"source\": [\n",
      "\u001b[0;32m~/Projects/neuroevolution/src/Organism.ipynb\u001b[0m in \u001b[0;36m__init__\u001b[0;34m(self, age, fitness, _id, species_hint, genotype, input_dim, output_dim, phenotype, generation)\u001b[0m\n\u001b[1;32m     12\u001b[0m   {\n\u001b[1;32m     13\u001b[0m    \u001b[0;34m\"cell_type\"\u001b[0m\u001b[0;34m:\u001b[0m \u001b[0;34m\"code\"\u001b[0m\u001b[0;34m,\u001b[0m\u001b[0;34m\u001b[0m\u001b[0m\n\u001b[0;32m---> 14\u001b[0;31m    \u001b[0;34m\"execution_count\"\u001b[0m\u001b[0;34m:\u001b[0m \u001b[0;36m5\u001b[0m\u001b[0;34m,\u001b[0m\u001b[0;34m\u001b[0m\u001b[0m\n\u001b[0m\u001b[1;32m     15\u001b[0m    \u001b[0;34m\"metadata\"\u001b[0m\u001b[0;34m:\u001b[0m \u001b[0;34m{\u001b[0m\u001b[0;34m}\u001b[0m\u001b[0;34m,\u001b[0m\u001b[0;34m\u001b[0m\u001b[0m\n\u001b[1;32m     16\u001b[0m    \"outputs\": [\n",
      "\u001b[0;32m~/Projects/neuroevolution/src/Genotype.ipynb\u001b[0m in \u001b[0;36m__init__\u001b[0;34m(self, input_dim, output_dim, generation)\u001b[0m\n\u001b[1;32m      8\u001b[0m    \"source\": [\n\u001b[1;32m      9\u001b[0m     \u001b[0;34m\"from importer import *\"\u001b[0m\u001b[0;34m\u001b[0m\u001b[0m\n\u001b[0;32m---> 10\u001b[0;31m    ]\n\u001b[0m\u001b[1;32m     11\u001b[0m   },\n\u001b[1;32m     12\u001b[0m   {\n",
      "\u001b[0;31mTypeError\u001b[0m: 'NoneType' object cannot be interpreted as an integer"
     ]
    }
   ],
   "source": [
    "p.generate_initial_population(100, 1, 2, 1)"
   ]
  },
  {
   "cell_type": "code",
   "execution_count": null,
   "metadata": {},
   "outputs": [],
   "source": []
  }
 ],
 "metadata": {
  "kernelspec": {
   "display_name": "Python [conda env:neuroevolution_3.6]",
   "language": "python",
   "name": "conda-env-neuroevolution_3.6-py"
  },
  "language_info": {
   "codemirror_mode": {
    "name": "ipython",
    "version": 3
   },
   "file_extension": ".py",
   "mimetype": "text/x-python",
   "name": "python",
   "nbconvert_exporter": "python",
   "pygments_lexer": "ipython3",
   "version": "3.6.6"
  }
 },
 "nbformat": 4,
 "nbformat_minor": 2
}
