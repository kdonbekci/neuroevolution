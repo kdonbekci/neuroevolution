{
 "cells": [
  {
   "cell_type": "code",
   "execution_count": 8,
   "metadata": {},
   "outputs": [],
   "source": [
    "%matplotlib inline\n",
    "import sys\n",
    "import os\n",
    "from pathlib import Path\n",
    "my_path = Path().absolute()\n",
    "sys.path.append(os.path.join(my_path, 'src'))\n",
    "from importer import *\n",
    "import numpy as np\n",
    "import pandas as pd\n",
    "import matplotlib.pyplot as plt"
   ]
  },
  {
   "cell_type": "markdown",
   "metadata": {
    "toc-hr-collapsed": false
   },
   "source": [
    "# Fundamentals"
   ]
  },
  {
   "cell_type": "markdown",
   "metadata": {
    "toc-hr-collapsed": false
   },
   "source": [
    "## Theory\n",
    "\n",
    "For background information, please refer to Kenneth Stanley's NEAT paper. \n",
    "\n",
    "This implementation will feature additional bio-inspired features to the classic NEAT algorithm:\n",
    "\n",
    "* **pseudo-genes:** \n",
    "* **out-breeding:** \n",
    "* **reproductive seasons:**\n",
    "* **predation and competition:**\n",
    "* **variable fitness:**\n",
    "* **adaptive mutation rate:**\n",
    "* **gene as unit of mutation:**\n",
    "\n"
   ]
  },
  {
   "cell_type": "code",
   "execution_count": null,
   "metadata": {},
   "outputs": [],
   "source": []
  }
 ],
 "metadata": {
  "kernelspec": {
   "display_name": "Python [conda env:neuroevolution_3.6]",
   "language": "python",
   "name": "conda-env-neuroevolution_3.6-py"
  },
  "language_info": {
   "codemirror_mode": {
    "name": "ipython",
    "version": 3
   },
   "file_extension": ".py",
   "mimetype": "text/x-python",
   "name": "python",
   "nbconvert_exporter": "python",
   "pygments_lexer": "ipython3",
   "version": "3.6.6"
  },
  "toc-autonumbering": true,
  "toc-showcode": false,
  "toc-showmarkdowntxt": true,
  "toc-showtags": false
 },
 "nbformat": 4,
 "nbformat_minor": 2
}
