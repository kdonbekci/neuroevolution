{
 "cells": [
  {
   "cell_type": "code",
   "execution_count": 2,
   "metadata": {},
   "outputs": [],
   "source": [
    "%matplotlib inline\n",
    "import sys\n",
    "import os\n",
    "from pathlib import Path\n",
    "my_path = Path().absolute()\n",
    "sys.path.append(os.path.join(my_path, 'src'))\n",
    "import numpy as np\n",
    "import pandas as pd\n",
    "import matplotlib.pyplot as plt"
   ]
  },
  {
   "cell_type": "markdown",
   "metadata": {
    "toc-hr-collapsed": false
   },
   "source": [
    "# Fundamentals"
   ]
  },
  {
   "cell_type": "markdown",
   "metadata": {
    "toc-hr-collapsed": false
   },
   "source": [
    "## Theory\n",
    "\n",
    "For background information, please refer to Kenneth Stanley's NEAT paper. \n",
    "\n",
    "This implementation will feature additional bio-inspired features to the classic NEAT algorithm:\n",
    "\n",
    "* **pseudo-genes:** \n",
    "* **out-breeding:** \n",
    "* **reproductive seasons:**\n",
    "* **predation and competition:**\n",
    "* **variable fitness:**\n",
    "* **adaptive mutation rate:**\n",
    "* **gene as unit of mutation:**\n",
    "* **layers as unit of mutation:**\n",
    "* **organism as unit of mutation:**\n",
    "\n"
   ]
  },
  {
   "cell_type": "code",
   "execution_count": null,
   "metadata": {},
   "outputs": [],
   "source": []
  }
 ],
 "metadata": {
  "kernelspec": {
   "display_name": "Python 3",
   "language": "python",
   "name": "python3"
  },
  "language_info": {
   "codemirror_mode": {
    "name": "ipython",
    "version": 3
   },
   "file_extension": ".py",
   "mimetype": "text/x-python",
   "name": "python",
   "nbconvert_exporter": "python",
   "pygments_lexer": "ipython3",
   "version": "3.7.3"
  },
  "toc-autonumbering": true,
  "toc-showcode": false,
  "toc-showmarkdowntxt": true,
  "toc-showtags": false
 },
 "nbformat": 4,
 "nbformat_minor": 4
}
