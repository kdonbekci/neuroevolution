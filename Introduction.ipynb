{
 "cells": [
  {
   "cell_type": "code",
   "execution_count": 10,
   "metadata": {},
   "outputs": [],
   "source": [
    "%matplotlib inline\n",
    "from nbimporter import NotebookLoader\n",
    "loader = NotebookLoader()\n",
    "# foo = loader.load_module(\"notebook\").foo\n",
    "import numpy as np\n",
    "import pandas as pd\n",
    "import matplotlib.pyplot as plt"
   ]
  },
  {
   "cell_type": "markdown",
   "metadata": {
    "toc-hr-collapsed": false
   },
   "source": [
    "# Fundamentals"
   ]
  },
  {
   "cell_type": "markdown",
   "metadata": {
    "toc-hr-collapsed": false
   },
   "source": [
    "## Theory\n",
    "\n",
    "For background information, please refer to Kenneth Stanley's NEAT paper. \n",
    "\n",
    "This implementation will feature additional bio-inspired features to the classic NEAT algorithm:\n",
    "\n",
    "* **pseudo-genes:** \n",
    "* **out-breeding:** \n",
    "* **reproductive seasons:**\n",
    "* **predation and competition:**\n",
    "* **variable fitness:**\n",
    "\n"
   ]
  },
  {
   "cell_type": "code",
   "execution_count": null,
   "metadata": {},
   "outputs": [],
   "source": []
  }
 ],
 "metadata": {
  "kernelspec": {
   "display_name": "Python [conda env:neuroevolution_3.6]",
   "language": "python",
   "name": "conda-env-neuroevolution_3.6-py"
  },
  "language_info": {
   "codemirror_mode": {
    "name": "ipython",
    "version": 3
   },
   "file_extension": ".py",
   "mimetype": "text/x-python",
   "name": "python",
   "nbconvert_exporter": "python",
   "pygments_lexer": "ipython3",
   "version": "3.6.6"
  },
  "toc-autonumbering": true,
  "toc-showcode": false,
  "toc-showmarkdowntxt": true,
  "toc-showtags": false
 },
 "nbformat": 4,
 "nbformat_minor": 2
}
