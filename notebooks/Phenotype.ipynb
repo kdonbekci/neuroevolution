{
 "cells": [
  {
   "cell_type": "markdown",
   "metadata": {},
   "source": [
    "# Phenome"
   ]
  },
  {
   "cell_type": "markdown",
   "metadata": {},
   "source": [
    "### Code"
   ]
  },
  {
   "cell_type": "code",
   "execution_count": 21,
   "metadata": {},
   "outputs": [],
   "source": [
    "from importer import *\n",
    "from config import Configuration\n",
    "from tensorflow.keras import backend as K\n",
    "from tensorflow.keras.utils import plot_model\n",
    "K.set_floatx(Configuration.MODEL_FLOAT_PRECISION)\n",
    "from tensorflow.keras.models import Model\n",
    "from tensorflow.keras.layers import Dense, Activation, Input, Lambda\n",
    "from tensorflow.keras.models import load_model, save_model\n",
    "\n",
    "class Phenome:\n",
    "    Genome = loader.load_module(\"Genome\").Genome\n",
    "    \n",
    "    def __init__(self, genome, _id): #construct neural network prototype from genome\n",
    "        self.id = _id  \n",
    "        self.build(genome)\n",
    "\n",
    "    def build(self, genome):\n",
    "        num_inputs = 0\n",
    "        num_outputs = 0\n",
    "#         layers\n",
    "        for i in genome.fixed_genes:\n",
    "            g = genome.fixed_genes[i]\n",
    "            if g.type == 'input':\n",
    "                num_inputs+=1\n",
    "            else:\n",
    "                num_outputs+=1\n",
    "        for i in genome.innovations:\n",
    "            g = genome.mutable_genes[i]\n",
    "            if g.type == 'connection':\n",
    "                pass\n",
    "            elif g.type == 'hidden':\n",
    "                pass\n",
    "            else:\n",
    "                assert False, 'invalid type for a gene {}'.format(g.type)\n",
    "#         _input = Input(shape=)\n",
    "\n",
    "    def __repr__(self):\n",
    "        pass"
   ]
  },
  {
   "cell_type": "markdown",
   "metadata": {},
   "source": [
    "### Testing"
   ]
  },
  {
   "cell_type": "code",
   "execution_count": 23,
   "metadata": {},
   "outputs": [],
   "source": [
    "a = Phenome.Genome(input_dim=2, output_dim=1, generation=1, copy=False, genome=None)"
   ]
  },
  {
   "cell_type": "code",
   "execution_count": 24,
   "metadata": {},
   "outputs": [
    {
     "data": {
      "text/plain": [
       "{0: <NodeGene-origin:1,inno_num:0,type:'input',bias:0.0,activation:'linear'>,\n",
       " 1: <NodeGene-origin:1,inno_num:1,type:'input',bias:0.0,activation:'linear'>,\n",
       " 2: <NodeGene-origin:1,inno_num:2,type:'output',bias:0.0,activation:'linear'>}"
      ]
     },
     "execution_count": 24,
     "metadata": {},
     "output_type": "execute_result"
    }
   ],
   "source": [
    "a.fixed_genes"
   ]
  },
  {
   "cell_type": "code",
   "execution_count": 25,
   "metadata": {},
   "outputs": [
    {
     "data": {
      "text/plain": [
       "<NodeGene-origin:2,inno_num:3,type:'hidden',bias:0.0,activation:'linear'>"
      ]
     },
     "execution_count": 25,
     "metadata": {},
     "output_type": "execute_result"
    }
   ],
   "source": [
    "g1 = Phenome.Genome.NodeGene(_type='hidden', generation=2)\n",
    "# a.add_gene()\n",
    "g1"
   ]
  },
  {
   "cell_type": "code",
   "execution_count": 26,
   "metadata": {},
   "outputs": [
    {
     "data": {
      "text/plain": [
       "['__class__',\n",
       " '__delattr__',\n",
       " '__dict__',\n",
       " '__dir__',\n",
       " '__doc__',\n",
       " '__eq__',\n",
       " '__format__',\n",
       " '__ge__',\n",
       " '__getattribute__',\n",
       " '__gt__',\n",
       " '__hash__',\n",
       " '__init__',\n",
       " '__init_subclass__',\n",
       " '__le__',\n",
       " '__lt__',\n",
       " '__module__',\n",
       " '__ne__',\n",
       " '__new__',\n",
       " '__reduce__',\n",
       " '__reduce_ex__',\n",
       " '__repr__',\n",
       " '__setattr__',\n",
       " '__sizeof__',\n",
       " '__str__',\n",
       " '__subclasshook__',\n",
       " '__weakref__',\n",
       " 'age',\n",
       " 'copy',\n",
       " 'describe',\n",
       " 'inno_tracker',\n",
       " 'isValidType']"
      ]
     },
     "execution_count": 26,
     "metadata": {},
     "output_type": "execute_result"
    }
   ],
   "source": [
    "dir(g1.__class__)"
   ]
  },
  {
   "cell_type": "code",
   "execution_count": 27,
   "metadata": {},
   "outputs": [
    {
     "data": {
      "text/plain": [
       "(<ConnectionGene-origin:3,inno_num:0,inNode:0,outNode:3,weight:1.2046828032736705,expressed:True>,\n",
       " <ConnectionGene-origin:3,inno_num:1,inNode:1,outNode:3,weight:-0.09591231474662831,expressed:True>,\n",
       " <ConnectionGene-origin:3,inno_num:2,inNode:3,outNode:2,weight:-0.09916994287949911,expressed:True>)"
      ]
     },
     "execution_count": 27,
     "metadata": {},
     "output_type": "execute_result"
    }
   ],
   "source": [
    "g2 = Phenome.Genome.ConnectionGene(inNode=0, outNode=3, generation=3)\n",
    "g3= Phenome.Genome.ConnectionGene(inNode=1, outNode=3, generation=3)\n",
    "g4 = Phenome.Genome.ConnectionGene(inNode=3, outNode=2, generation=3)\n",
    "g2, g3, g4"
   ]
  },
  {
   "cell_type": "code",
   "execution_count": 8,
   "metadata": {},
   "outputs": [
    {
     "data": {
      "text/plain": [
       "{3: <NodeGene-origin:2,inno_num:3,type:'hidden',bias:0.0,activation:'linear'>,\n",
       " 0: <ConnectionGene-origin:3,inno_num:0,inNode:0,outNode:3,weight:-0.5449709646370626,expressed:True>,\n",
       " 1: <ConnectionGene-origin:3,inno_num:1,inNode:1,outNode:3,weight:0.040889175685577435,expressed:True>,\n",
       " 2: <ConnectionGene-origin:3,inno_num:2,inNode:3,outNode:2,weight:-0.8719936905270744,expressed:True>}"
      ]
     },
     "execution_count": 8,
     "metadata": {},
     "output_type": "execute_result"
    }
   ],
   "source": [
    "a.mutable_genes"
   ]
  },
  {
   "cell_type": "code",
   "execution_count": 10,
   "metadata": {},
   "outputs": [
    {
     "data": {
      "text/plain": [
       "<Genome-origin:1,mutable_genes:{3: <NodeGene-origin:2,inno_num:3,type:'hidden',bias:0.0,activation:'linear'>, 0: <ConnectionGene-origin:3,inno_num:0,inNode:0,outNode:3,weight:-0.5449709646370626,expressed:True>, 1: <ConnectionGene-origin:3,inno_num:1,inNode:1,outNode:3,weight:0.040889175685577435,expressed:True>, 2: <ConnectionGene-origin:3,inno_num:2,inNode:3,outNode:2,weight:-0.8719936905270744,expressed:True>}>"
      ]
     },
     "execution_count": 10,
     "metadata": {},
     "output_type": "execute_result"
    }
   ],
   "source": [
    "a"
   ]
  },
  {
   "cell_type": "code",
   "execution_count": 55,
   "metadata": {},
   "outputs": [],
   "source": [
    "p = Phenome(a, 1)"
   ]
  },
  {
   "cell_type": "code",
   "execution_count": 52,
   "metadata": {},
   "outputs": [
    {
     "data": {
      "text/plain": [
       "<__main__.Phenome at 0x7f5e4e024390>"
      ]
     },
     "execution_count": 52,
     "metadata": {},
     "output_type": "execute_result"
    }
   ],
   "source": [
    "p"
   ]
  },
  {
   "cell_type": "code",
   "execution_count": null,
   "metadata": {},
   "outputs": [],
   "source": []
  }
 ],
 "metadata": {
  "kernelspec": {
   "display_name": "Python [conda env:neuroevolution_3.6]",
   "language": "python",
   "name": "conda-env-neuroevolution_3.6-py"
  },
  "language_info": {
   "codemirror_mode": {
    "name": "ipython",
    "version": 3
   },
   "file_extension": ".py",
   "mimetype": "text/x-python",
   "name": "python",
   "nbconvert_exporter": "python",
   "pygments_lexer": "ipython3",
   "version": "3.6.6"
  }
 },
 "nbformat": 4,
 "nbformat_minor": 2
}
