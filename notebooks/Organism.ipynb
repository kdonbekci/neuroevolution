{
 "cells": [
  {
   "cell_type": "markdown",
   "metadata": {},
   "source": [
    "# Organism"
   ]
  },
  {
   "cell_type": "markdown",
   "metadata": {},
   "source": [
    "### Code"
   ]
  },
  {
   "cell_type": "code",
   "execution_count": 9,
   "metadata": {},
   "outputs": [],
   "source": [
    "from importer import *\n",
    "\n",
    "class Organism:\n",
    "    \n",
    "    Genome = loader.load_module(\"Genome\").Genome\n",
    "    Phenome = loader.load_module(\"Phenome\").Phenome\n",
    "    Fitness = loader.load_module(\"Fitness\").Fitness\n",
    "    unique_id = 0\n",
    "    \n",
    "    def __init__(self, species_hint):\n",
    "        self.fitness = Organism.Fitness()\n",
    "        self.id = Organism.unique_id\n",
    "        Organism.unique_id+=1 \n",
    "        self.species_hint = species_hint \n",
    "        \n",
    "    def mutate(self):\n",
    "        pass\n",
    "    \n",
    "    #method for sexual reproduction.\n",
    "    @staticmethod\n",
    "    def mate(parent1, parent2, generation):\n",
    "        if parent1 > parent2:\n",
    "            more_fit_parent = parent1\n",
    "            less_fit_parent = parent2\n",
    "        else:\n",
    "            more_fit_parent = parent2\n",
    "            less_fit_parent = parent1\n",
    "        child_genome = Organism.Genome.crossover(more_fit_parent.genome, less_fit_parent.genome, generation)\n",
    "        child = Organism(species_hint = more_fit_parent.species_hint)\n",
    "        child.add_genome(child_genome)\n",
    "        return child\n",
    "    \n",
    "    def asexually_reproduce(self):\n",
    "        child = Organism(self.species_hint)\n",
    "        child.add_genome(self.genome.copy())\n",
    "        return child\n",
    "    \n",
    "    def evaluate(self, ):\n",
    "        self.phenome.evaluate(fn)\n",
    "        \n",
    "    \n",
    "    #method for the first organisms created\n",
    "    @staticmethod\n",
    "    def genesis(species_hint, input_dim, output_dim, generation):\n",
    "        organism = Organism(species_hint)\n",
    "        organism.generate_genome(input_dim, output_dim, generation)\n",
    "        organism.generate_phenome()\n",
    "        return organism\n",
    "       \n",
    "    def copy(self):\n",
    "        clone = Organism(self.species_hint)\n",
    "        \n",
    "    def generate_genome(self, input_dim, output_dim, generation):\n",
    "        self.genome = Organism.Genome(generation, input_dim, output_dim)\n",
    "        \n",
    "    def add_genome(self, genome):\n",
    "        self.genome = genome\n",
    "        \n",
    "    def generate_phenome(self):\n",
    "        self.phenome = Organism.Phenome(self.genome, self.id)\n",
    "\n",
    "    def age(self, generation):\n",
    "        return generation - self.origin\n",
    "    \n",
    "    @property\n",
    "    def origin(self):\n",
    "        assert 'genome' in self.__dict__, 'Genome of organism not yet initialized'\n",
    "        return self.genome.origin\n",
    "    \n",
    "    def __repr__(self):\n",
    "        return '<Organism-id:{},species_hint:{},genome:{},fitness:{}>'.format(self.id, self.species_hint, self.genome, self.fitness)\n",
    "    \n",
    "    #compare their fitness\n",
    "    def __lt__(self, other):\n",
    "        return self.fitness < other.fitness\n",
    "    \n",
    "        "
   ]
  },
  {
   "cell_type": "markdown",
   "metadata": {},
   "source": [
    "### Testing"
   ]
  },
  {
   "cell_type": "code",
   "execution_count": null,
   "metadata": {},
   "outputs": [],
   "source": []
  },
  {
   "cell_type": "code",
   "execution_count": 10,
   "metadata": {},
   "outputs": [
    {
     "name": "stdout",
     "output_type": "stream",
     "text": [
      "<Genome-origin:1,genes:{0: <NodeGene-origin:1,inno_num:0,type:'input',bias:0.0,activation:'linear'>, 1: <NodeGene-origin:1,inno_num:1,type:'output',bias:0.0,activation:'linear'>, 2: <NodeGene-origin:1,inno_num:2,type:'output',bias:0.0,activation:'linear'>}>\n",
      "<Genome-origin:1,genes:{3: <NodeGene-origin:1,inno_num:3,type:'input',bias:0.0,activation:'linear'>, 4: <NodeGene-origin:1,inno_num:4,type:'output',bias:0.0,activation:'linear'>, 5: <NodeGene-origin:1,inno_num:5,type:'output',bias:0.0,activation:'linear'>}>\n"
     ]
    }
   ],
   "source": [
    "a = Organism.genesis(1, 2, 1, 1)\n",
    "b = Organism.genesis(1, 2, 1, 1)"
   ]
  },
  {
   "cell_type": "code",
   "execution_count": 11,
   "metadata": {},
   "outputs": [
    {
     "ename": "AttributeError",
     "evalue": "'Phenome' object has no attribute 'genome'",
     "output_type": "error",
     "traceback": [
      "\u001b[0;31m---------------------------------------------------------------------------\u001b[0m",
      "\u001b[0;31mAttributeError\u001b[0m                            Traceback (most recent call last)",
      "\u001b[0;32m<ipython-input-11-53e4958c688c>\u001b[0m in \u001b[0;36m<module>\u001b[0;34m\u001b[0m\n\u001b[0;32m----> 1\u001b[0;31m \u001b[0ma\u001b[0m\u001b[0;34m.\u001b[0m\u001b[0mphenome\u001b[0m\u001b[0;34m.\u001b[0m\u001b[0mtest\u001b[0m\u001b[0;34m(\u001b[0m\u001b[0;34m)\u001b[0m\u001b[0;34m\u001b[0m\u001b[0m\n\u001b[0m",
      "\u001b[0;32m~/Projects/neuroevolution/src/Phenome.ipynb\u001b[0m in \u001b[0;36mtest\u001b[0;34m(self)\u001b[0m\n\u001b[1;32m      6\u001b[0m    \"source\": [\n\u001b[1;32m      7\u001b[0m     \u001b[0;34m\"# Phenome\"\u001b[0m\u001b[0;34m\u001b[0m\u001b[0m\n\u001b[0;32m----> 8\u001b[0;31m    ]\n\u001b[0m\u001b[1;32m      9\u001b[0m   },\n\u001b[1;32m     10\u001b[0m   {\n",
      "\u001b[0;31mAttributeError\u001b[0m: 'Phenome' object has no attribute 'genome'"
     ]
    }
   ],
   "source": [
    "a.phenome.test()"
   ]
  },
  {
   "cell_type": "code",
   "execution_count": 22,
   "metadata": {},
   "outputs": [],
   "source": [
    "a.fitness.add_fitness_record(10)\n",
    "b.fitness.add_fitness_record(5)"
   ]
  },
  {
   "cell_type": "code",
   "execution_count": 23,
   "metadata": {},
   "outputs": [],
   "source": [
    "c = Organism.mate(a, b, 2)"
   ]
  },
  {
   "cell_type": "code",
   "execution_count": 24,
   "metadata": {},
   "outputs": [
    {
     "data": {
      "text/plain": [
       "<Organism-id:2,species_hint:1,genome:<Genome-origin:2,genes:{0: <NodeGene-origin:1,inno_num:0,type:'input',bias:0.0,activation:'linear'>, 1: <NodeGene-origin:1,inno_num:1,type:'output',bias:0.0,activation:'linear'>, 2: <NodeGene-origin:1,inno_num:2,type:'output',bias:0.0,activation:'linear'>}>,fitness:<Fitness-histrory:[]>>"
      ]
     },
     "execution_count": 24,
     "metadata": {},
     "output_type": "execute_result"
    }
   ],
   "source": [
    "c"
   ]
  },
  {
   "cell_type": "code",
   "execution_count": 25,
   "metadata": {},
   "outputs": [
    {
     "data": {
      "text/plain": [
       "<Organism-id:3,species_hint:1,genome:<Genome-origin:2,genes:{0: <NodeGene-origin:1,inno_num:0,type:'input',bias:0.0,activation:'linear'>, 1: <NodeGene-origin:1,inno_num:1,type:'output',bias:0.0,activation:'linear'>, 2: <NodeGene-origin:1,inno_num:2,type:'output',bias:0.0,activation:'linear'>}>,fitness:<Fitness-histrory:[]>>"
      ]
     },
     "execution_count": 25,
     "metadata": {},
     "output_type": "execute_result"
    }
   ],
   "source": [
    "c.asexually_reproduce()"
   ]
  },
  {
   "cell_type": "code",
   "execution_count": 26,
   "metadata": {},
   "outputs": [
    {
     "data": {
      "text/plain": [
       "1"
      ]
     },
     "execution_count": 26,
     "metadata": {},
     "output_type": "execute_result"
    }
   ],
   "source": [
    "a.origin"
   ]
  },
  {
   "cell_type": "code",
   "execution_count": 27,
   "metadata": {},
   "outputs": [
    {
     "name": "stdout",
     "output_type": "stream",
     "text": [
      "<Organism-id:0,species_hint:1,genome:<Genome-origin:1,genes:{0: <NodeGene-origin:1,inno_num:0,type:'input',bias:0.0,activation:'linear'>, 1: <NodeGene-origin:1,inno_num:1,type:'output',bias:0.0,activation:'linear'>, 2: <NodeGene-origin:1,inno_num:2,type:'output',bias:0.0,activation:'linear'>}>,fitness:<Fitness-histrory:[10]>>\n"
     ]
    }
   ],
   "source": [
    "print(a)"
   ]
  }
 ],
 "metadata": {
  "kernelspec": {
   "display_name": "Python [conda env:neuroevolution_3.6]",
   "language": "python",
   "name": "conda-env-neuroevolution_3.6-py"
  },
  "language_info": {
   "codemirror_mode": {
    "name": "ipython",
    "version": 3
   },
   "file_extension": ".py",
   "mimetype": "text/x-python",
   "name": "python",
   "nbconvert_exporter": "python",
   "pygments_lexer": "ipython3",
   "version": "3.6.6"
  }
 },
 "nbformat": 4,
 "nbformat_minor": 2
}
